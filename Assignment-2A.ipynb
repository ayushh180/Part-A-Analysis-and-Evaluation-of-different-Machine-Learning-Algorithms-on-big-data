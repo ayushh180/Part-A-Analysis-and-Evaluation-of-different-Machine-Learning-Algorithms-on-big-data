{
 "cells": [
  {
   "cell_type": "markdown",
   "metadata": {},
   "source": [
    "# Importing Liabraries"
   ]
  },
  {
   "cell_type": "code",
   "execution_count": 1,
   "metadata": {},
   "outputs": [],
   "source": [
    "# Importing Required Libraries\n",
    "from pyspark import SparkConf\n",
    "from pyspark import SparkContext\n",
    "from pyspark.sql.types import *\n",
    "from pyspark.sql import SparkSession\n",
    "from pyspark.sql import *\n",
    "from pyspark.sql.functions import isnan, when, count, col\n",
    "from pyspark.sql.types import *\n",
    "from pyspark.sql.functions import udf, log\n",
    "import pyspark.sql.functions as f\n",
    "from pyspark.ml.linalg import Vectors\n",
    "from pyspark.ml.feature import VectorAssembler, StandardScaler\n",
    "from pyspark.ml import Pipeline\n",
    "from pyspark.ml.classification import DecisionTreeClassifier\n",
    "from pyspark.ml.feature import StringIndexer\n",
    "from pyspark.ml.feature import OneHotEncoder\n",
    "from pyspark.ml.linalg import Vectors\n",
    "from pyspark.ml.feature import VectorAssembler\n",
    "from pyspark.ml.classification import DecisionTreeClassifier"
   ]
  },
  {
   "cell_type": "markdown",
   "metadata": {},
   "source": [
    "# 1 Data preparation and exploration\n",
    "## 1.1 Creating Spark Session\n",
    "### 1.1.1\n",
    "### 1.1.2"
   ]
  },
  {
   "cell_type": "code",
   "execution_count": 2,
   "metadata": {},
   "outputs": [],
   "source": [
    "#Creating spark Session using spark context\n",
    "master = \"local[*]\"\n",
    "app_name = 'FIT5202 Assignment-2'\n",
    "spark_conf = SparkConf().setMaster(master).setAppName(app_name).set('spark.sql.files.maxPartitionBytes',33000000)\n",
    "spark = SparkSession.builder.config(conf=spark_conf).getOrCreate()\n",
    "sc = spark.sparkContext\n",
    "sc.setLogLevel('ERROR')"
   ]
  },
  {
   "cell_type": "markdown",
   "metadata": {},
   "source": [
    "## 1.2 Loading the data\n",
    "### 1.2.1"
   ]
  },
  {
   "cell_type": "code",
   "execution_count": 3,
   "metadata": {},
   "outputs": [],
   "source": [
    "# Defining the schema of memory file according to the meta data and loading the csv\n",
    "memorySchema = StructType([StructField('ts', IntegerType(), True),\n",
    "                     StructField('PID', IntegerType(), True),\n",
    "                     StructField('MINFLT', IntegerType(), True),\n",
    "                     StructField('MAJFLT', IntegerType(), True),\n",
    "                     StructField('VSTEXT', IntegerType(), True),\n",
    "                     StructField('VSIZE', IntegerType(), True),\n",
    "                     StructField('RSIZE', IntegerType(), True),\n",
    "                     StructField('VGROW', IntegerType(), True),\n",
    "                     StructField('RGROW', IntegerType(), True),\n",
    "                     StructField('MEM', IntegerType(), True),\n",
    "                     StructField('CMD', StringType(), True),\n",
    "                     StructField('attack', IntegerType(), True),\n",
    "                     StructField('type', StringType(), True)])\n",
    "memoryFile=['linux_memory_1.csv','linux_memory_2.csv']\n",
    "memoryDf = spark.read.format('csv')\\\n",
    "            .option('header',True)\\\n",
    "            .load(memoryFile,schema=memorySchema,inferSchema =False)"
   ]
  },
  {
   "cell_type": "code",
   "execution_count": 4,
   "metadata": {},
   "outputs": [
    {
     "name": "stdout",
     "output_type": "stream",
     "text": [
      "2000000\n"
     ]
    }
   ],
   "source": [
    "print(memoryDf.count())"
   ]
  },
  {
   "cell_type": "code",
   "execution_count": 5,
   "metadata": {},
   "outputs": [
    {
     "data": {
      "text/plain": [
       "DataFrame[ts: int, PID: int, MINFLT: int, MAJFLT: int, VSTEXT: int, VSIZE: int, RSIZE: int, VGROW: int, RGROW: int, MEM: int, CMD: string, attack: int, type: string]"
      ]
     },
     "execution_count": 5,
     "metadata": {},
     "output_type": "execute_result"
    }
   ],
   "source": [
    "memoryDf.cache()"
   ]
  },
  {
   "cell_type": "code",
   "execution_count": 6,
   "metadata": {},
   "outputs": [],
   "source": [
    "# Defining the schema of process file according to the meta data and loading the csv\n",
    "processSchema = StructType([StructField('ts', IntegerType(), True),\n",
    "                     StructField('PID', IntegerType(), True),\n",
    "                     StructField('TRUN', IntegerType(), True),\n",
    "                     StructField('TSLPI', IntegerType(), True),\n",
    "                     StructField('TSLPU', IntegerType(), True),\n",
    "                     StructField('POLI', StringType(), True),\n",
    "                     StructField('NICE', IntegerType(), True),\n",
    "                     StructField('PRI', IntegerType(), True),\n",
    "                     StructField('RTPR', IntegerType(), True),\n",
    "                     StructField('CPUNR', IntegerType(), True),\n",
    "                     StructField('Status', StringType(), True),\n",
    "                     StructField('EXC', IntegerType(), True),\n",
    "                     StructField('State', StringType(), True),\n",
    "                     StructField('CPU', IntegerType(), True),\n",
    "                     StructField('CMD', StringType(), True),\n",
    "                     StructField('attack', IntegerType(), True),\n",
    "                     StructField('type', StringType(), True)])\n",
    "\n",
    "processFile=['linux_process_1.csv','linux_process_2.csv']\n",
    "\n",
    "processDf = spark.read.format('csv')\\\n",
    "            .option('header',True)\\\n",
    "            .load(processFile,schema=processSchema,inferSchema =False)\n"
   ]
  },
  {
   "cell_type": "code",
   "execution_count": 7,
   "metadata": {},
   "outputs": [
    {
     "data": {
      "text/plain": [
       "1927968"
      ]
     },
     "execution_count": 7,
     "metadata": {},
     "output_type": "execute_result"
    }
   ],
   "source": [
    "processDf.count()"
   ]
  },
  {
   "cell_type": "code",
   "execution_count": 8,
   "metadata": {},
   "outputs": [
    {
     "data": {
      "text/plain": [
       "DataFrame[ts: int, PID: int, TRUN: int, TSLPI: int, TSLPU: int, POLI: string, NICE: int, PRI: int, RTPR: int, CPUNR: int, Status: string, EXC: int, State: string, CPU: int, CMD: string, attack: int, type: string]"
      ]
     },
     "execution_count": 8,
     "metadata": {},
     "output_type": "execute_result"
    }
   ],
   "source": [
    "processDf.cache()"
   ]
  },
  {
   "cell_type": "code",
   "execution_count": 9,
   "metadata": {},
   "outputs": [
    {
     "name": "stdout",
     "output_type": "stream",
     "text": [
      "+---+---+----+-----+-----+----+----+---+----+-----+------+---+-----+------+---+------+----+\n",
      "| ts|PID|TRUN|TSLPI|TSLPU|POLI|NICE|PRI|RTPR|CPUNR|Status|EXC|State|   CPU|CMD|attack|type|\n",
      "+---+---+----+-----+-----+----+----+---+----+-----+------+---+-----+------+---+------+----+\n",
      "|  0|  0|   0|    0|    0|   0|   0|  0|   0|    0|     0|  0|    0|512374|  0|     0|   0|\n",
      "+---+---+----+-----+-----+----+----+---+----+-----+------+---+-----+------+---+------+----+\n",
      "\n"
     ]
    }
   ],
   "source": [
    "#checking and counting the nulls and non numberic data in numeric columns in process data\n",
    "processDf.select([count(when(isnan(i) | col(i).isNull(), i)).alias(i) for i in processDf.columns]).show()"
   ]
  },
  {
   "cell_type": "code",
   "execution_count": 10,
   "metadata": {},
   "outputs": [
    {
     "name": "stdout",
     "output_type": "stream",
     "text": [
      "+---+---+------+------+------+------+-----+-----+-----+------+---+------+----+\n",
      "| ts|PID|MINFLT|MAJFLT|VSTEXT| VSIZE|RSIZE|VGROW|RGROW|   MEM|CMD|attack|type|\n",
      "+---+---+------+------+------+------+-----+-----+-----+------+---+------+----+\n",
      "|  0|  0|  9737|448868| 27907|523958|83545|50912|10294|302276|  0|     0|   0|\n",
      "+---+---+------+------+------+------+-----+-----+-----+------+---+------+----+\n",
      "\n"
     ]
    }
   ],
   "source": [
    "#checking and counting the nulls and non numberic data in numeric columns in memory data\n",
    "memoryDf.select([count(when(isnan(i) | col(i).isNull(), i)).alias(i) for i in memoryDf.columns]).show()"
   ]
  },
  {
   "cell_type": "markdown",
   "metadata": {},
   "source": [
    "### 1.2.2"
   ]
  },
  {
   "cell_type": "code",
   "execution_count": 11,
   "metadata": {},
   "outputs": [],
   "source": [
    "# Re-defining schema after checking the type of values in memory schema \n",
    "newMemorySchema = StructType([StructField('ts', IntegerType(), True),\n",
    "                     StructField('PID', IntegerType(), True),\n",
    "                     StructField('MINFLT', StringType(), True),\n",
    "                     StructField('MAJFLT', StringType(), True),\n",
    "                     StructField('VSTEXT', StringType(), True),\n",
    "                     StructField('VSIZE', FloatType(), True),\n",
    "                     StructField('RSIZE', StringType(), True),\n",
    "                     StructField('VGROW', StringType(), True),\n",
    "                     StructField('RGROW', StringType(), True),\n",
    "                     StructField('MEM', FloatType(), True),\n",
    "                     StructField('CMD', StringType(), True),\n",
    "                     StructField('attack', IntegerType(), True),\n",
    "                     StructField('type', StringType(), True)])\n",
    "memoryFile=['linux_memory_1.csv','linux_memory_2.csv']\n",
    "newMemoryDf = spark.read.format('csv')\\\n",
    "            .option('header',True)\\\n",
    "            .load(memoryFile,schema=newMemorySchema,inferSchema =False)\n"
   ]
  },
  {
   "cell_type": "code",
   "execution_count": 12,
   "metadata": {},
   "outputs": [
    {
     "data": {
      "text/plain": [
       "1927968"
      ]
     },
     "execution_count": 12,
     "metadata": {},
     "output_type": "execute_result"
    }
   ],
   "source": [
    "processDf.count()"
   ]
  },
  {
   "cell_type": "code",
   "execution_count": 13,
   "metadata": {},
   "outputs": [],
   "source": [
    "# Re-defining schema after checking the type of values in process schema\n",
    "newProcessSchema = StructType([StructField('ts', IntegerType(), True),\n",
    "                     StructField('PID', IntegerType(), True),\n",
    "                     StructField('TRUN', IntegerType(), True),\n",
    "                     StructField('TSLPI', IntegerType(), True),\n",
    "                     StructField('TSLPU', IntegerType(), True),\n",
    "                     StructField('POLI', StringType(), True),\n",
    "                     StructField('NICE', IntegerType(), True),\n",
    "                     StructField('PRI', IntegerType(), True),\n",
    "                     StructField('RTPR', IntegerType(), True),\n",
    "                     StructField('CPUNR', IntegerType(), True),\n",
    "                     StructField('Status', StringType(), True),\n",
    "                     StructField('EXC', IntegerType(), True),\n",
    "                     StructField('State', StringType(), True),\n",
    "                     StructField('CPU', FloatType(), True),\n",
    "                     StructField('CMD', StringType(), True),\n",
    "                     StructField('attack', IntegerType(), True),\n",
    "                     StructField('type', StringType(), True)])\n",
    "\n",
    "processFile=['linux_process_1.csv','linux_process_2.csv']\n",
    "newProcessDf = spark.read.format('csv')\\\n",
    "            .option('header',True)\\\n",
    "            .load(processFile,schema=newProcessSchema,inferSchema =False)\n"
   ]
  },
  {
   "cell_type": "code",
   "execution_count": 14,
   "metadata": {},
   "outputs": [
    {
     "data": {
      "text/plain": [
       "1927968"
      ]
     },
     "execution_count": 14,
     "metadata": {},
     "output_type": "execute_result"
    }
   ],
   "source": [
    "newProcessDf.count()"
   ]
  },
  {
   "cell_type": "code",
   "execution_count": 15,
   "metadata": {},
   "outputs": [
    {
     "name": "stdout",
     "output_type": "stream",
     "text": [
      "+---+---+----+-----+-----+----+----+---+----+-----+------+---+-----+---+---+------+----+\n",
      "| ts|PID|TRUN|TSLPI|TSLPU|POLI|NICE|PRI|RTPR|CPUNR|Status|EXC|State|CPU|CMD|attack|type|\n",
      "+---+---+----+-----+-----+----+----+---+----+-----+------+---+-----+---+---+------+----+\n",
      "|  0|  0|   0|    0|    0|   0|   0|  0|   0|    0|     0|  0|    0|  0|  0|     0|   0|\n",
      "+---+---+----+-----+-----+----+----+---+----+-----+------+---+-----+---+---+------+----+\n",
      "\n"
     ]
    }
   ],
   "source": [
    "# re checking nulls and not a number in process data\n",
    "newProcessDf.select([count(when(isnan(i) | col(i).isNull(), i)).alias(i) for i in newProcessDf.columns]).show()"
   ]
  },
  {
   "cell_type": "code",
   "execution_count": 16,
   "metadata": {},
   "outputs": [
    {
     "name": "stdout",
     "output_type": "stream",
     "text": [
      "+---+---+------+------+------+-----+-----+-----+-----+---+---+------+----+\n",
      "| ts|PID|MINFLT|MAJFLT|VSTEXT|VSIZE|RSIZE|VGROW|RGROW|MEM|CMD|attack|type|\n",
      "+---+---+------+------+------+-----+-----+-----+-----+---+---+------+----+\n",
      "|  0|  0|     0|     0|     0|    0|    0|    0|    0|  0|  0|     0|   0|\n",
      "+---+---+------+------+------+-----+-----+-----+-----+---+---+------+----+\n",
      "\n"
     ]
    }
   ],
   "source": [
    "# re checking nulls and not a number in memory data\n",
    "newMemoryDf.select([count(when(isnan(i) | col(i).isNull(), i)).alias(i) for i in newMemoryDf.columns]).show()"
   ]
  },
  {
   "cell_type": "markdown",
   "metadata": {},
   "source": [
    "# Transformation of column into proper formats"
   ]
  },
  {
   "cell_type": "code",
   "execution_count": 17,
   "metadata": {},
   "outputs": [
    {
     "name": "stdout",
     "output_type": "stream",
     "text": [
      "+----------+----+--------+------+------+-----+-----+-----+-----+----+--------------+------+------+\n",
      "|        ts| PID|  MINFLT|MAJFLT|VSTEXT|VSIZE|RSIZE|VGROW|RGROW| MEM|           CMD|attack|  type|\n",
      "+----------+----+--------+------+------+-----+-----+-----+-----+----+--------------+------+------+\n",
      "|1554218915|3257|859502.0|    54|   193|  2.0|519.1|    2|519.1|0.14|   Web-Content|     0|normal|\n",
      "|1554218920|3197|247354.0|    95|   193|  2.6|  402|  2.6|  402|0.11|       firefox|     0|normal|\n",
      "|1554218925|1442| 57311.0|    33|  2219|764.2|290.7|764.2|290.7|0.08|          Xorg|     0|normal|\n",
      "|1554218930|3119| 68006.0|    17|  3063|725.9|116.8|725.9|116.8|0.03|update-manager|     0|normal|\n",
      "|1554218935|2797| 72300.0|    69|  1350|  1.4|109.6|  1.4|109.6|0.03|      nautilus|     0|normal|\n",
      "+----------+----+--------+------+------+-----+-----+-----+-----+----+--------------+------+------+\n",
      "only showing top 5 rows\n",
      "\n"
     ]
    }
   ],
   "source": [
    "#MINFLT replace and type change\n",
    "replaceK = udf(lambda x: float(x.replace(\"K\", \"\"))*1000 if \"K\" in x else float(x), FloatType())\n",
    "newMemoryDf = newMemoryDf.withColumn(\"MINFLT\", replaceK(\"MINFLT\"))\n",
    "newMemoryDf.show(5)"
   ]
  },
  {
   "cell_type": "code",
   "execution_count": 18,
   "metadata": {},
   "outputs": [
    {
     "name": "stdout",
     "output_type": "stream",
     "text": [
      "+----------+----+--------+------+------+-----+-----+-----+-----+----+--------------+------+------+\n",
      "|        ts| PID|  MINFLT|MAJFLT|VSTEXT|VSIZE|RSIZE|VGROW|RGROW| MEM|           CMD|attack|  type|\n",
      "+----------+----+--------+------+------+-----+-----+-----+-----+----+--------------+------+------+\n",
      "|1554218915|3257|859502.0|  54.0|   193|  2.0|519.1|    2|519.1|0.14|   Web-Content|     0|normal|\n",
      "|1554218920|3197|247354.0|  95.0|   193|  2.6|  402|  2.6|  402|0.11|       firefox|     0|normal|\n",
      "|1554218925|1442| 57311.0|  33.0|  2219|764.2|290.7|764.2|290.7|0.08|          Xorg|     0|normal|\n",
      "|1554218930|3119| 68006.0|  17.0|  3063|725.9|116.8|725.9|116.8|0.03|update-manager|     0|normal|\n",
      "|1554218935|2797| 72300.0|  69.0|  1350|  1.4|109.6|  1.4|109.6|0.03|      nautilus|     0|normal|\n",
      "+----------+----+--------+------+------+-----+-----+-----+-----+----+--------------+------+------+\n",
      "only showing top 5 rows\n",
      "\n"
     ]
    }
   ],
   "source": [
    "#MAJFLT replace and type change\n",
    "replaceM = udf(lambda x: float(x.replace(\"M\", \"\"))*1000000 if \"M\" in x else float(x), FloatType())\n",
    "newMemoryDf = newMemoryDf.withColumn(\"MAJFLT\", replaceM(\"MAJFLT\"))\n",
    "newMemoryDf.show(5)"
   ]
  },
  {
   "cell_type": "code",
   "execution_count": 19,
   "metadata": {},
   "outputs": [
    {
     "name": "stdout",
     "output_type": "stream",
     "text": [
      "+----------+----+--------+------+------+-----+-----+-----+-----+----+--------------+------+------+\n",
      "|        ts| PID|  MINFLT|MAJFLT|VSTEXT|VSIZE|RSIZE|VGROW|RGROW| MEM|           CMD|attack|  type|\n",
      "+----------+----+--------+------+------+-----+-----+-----+-----+----+--------------+------+------+\n",
      "|1554218915|3257|859502.0|  54.0| 193.0|  2.0|519.1|    2|519.1|0.14|   Web-Content|     0|normal|\n",
      "|1554218920|3197|247354.0|  95.0| 193.0|  2.6|  402|  2.6|  402|0.11|       firefox|     0|normal|\n",
      "|1554218925|1442| 57311.0|  33.0|2219.0|764.2|290.7|764.2|290.7|0.08|          Xorg|     0|normal|\n",
      "|1554218930|3119| 68006.0|  17.0|3063.0|725.9|116.8|725.9|116.8|0.03|update-manager|     0|normal|\n",
      "|1554218935|2797| 72300.0|  69.0|1350.0|  1.4|109.6|  1.4|109.6|0.03|      nautilus|     0|normal|\n",
      "+----------+----+--------+------+------+-----+-----+-----+-----+----+--------------+------+------+\n",
      "only showing top 5 rows\n",
      "\n"
     ]
    }
   ],
   "source": [
    "#VSTEXT replace and type change\n",
    "replaceK = udf(lambda x: float(x.replace(\"K\", \"\"))*1000 if \"K\" in x else float(x), FloatType())\n",
    "newMemoryDf= newMemoryDf.withColumn(\"VSTEXT\", replaceK(\"VSTEXT\"))\n",
    "newMemoryDf.show(5)"
   ]
  },
  {
   "cell_type": "code",
   "execution_count": 20,
   "metadata": {},
   "outputs": [
    {
     "name": "stdout",
     "output_type": "stream",
     "text": [
      "+----------+----+--------+------+------+-----+-----+-----+-----+----+--------------+------+------+\n",
      "|        ts| PID|  MINFLT|MAJFLT|VSTEXT|VSIZE|RSIZE|VGROW|RGROW| MEM|           CMD|attack|  type|\n",
      "+----------+----+--------+------+------+-----+-----+-----+-----+----+--------------+------+------+\n",
      "|1554218915|3257|859502.0|  54.0| 193.0|  2.0|519.1|    2|519.1|0.14|   Web-Content|     0|normal|\n",
      "|1554218920|3197|247354.0|  95.0| 193.0|  2.6|402.0|  2.6|  402|0.11|       firefox|     0|normal|\n",
      "|1554218925|1442| 57311.0|  33.0|2219.0|764.2|290.7|764.2|290.7|0.08|          Xorg|     0|normal|\n",
      "|1554218930|3119| 68006.0|  17.0|3063.0|725.9|116.8|725.9|116.8|0.03|update-manager|     0|normal|\n",
      "|1554218935|2797| 72300.0|  69.0|1350.0|  1.4|109.6|  1.4|109.6|0.03|      nautilus|     0|normal|\n",
      "+----------+----+--------+------+------+-----+-----+-----+-----+----+--------------+------+------+\n",
      "only showing top 5 rows\n",
      "\n"
     ]
    }
   ],
   "source": [
    "#RSIZE replace and type change\n",
    "replaceM = udf(lambda x: str(float(x.replace(\"M\", \"\"))*1000000) if \"M\" in x else x, StringType())\n",
    "newMemoryDf = newMemoryDf.withColumn(\"RSIZE\", replaceM(\"RSIZE\"))\n",
    "\n",
    "replaceK = udf(lambda y: str(float(y.replace(\"K\", \"\"))*1000) if \"K\" in y else y, StringType())\n",
    "newMemoryDf = newMemoryDf.withColumn(\"RSIZE\", replaceK(\"RSIZE\"))\n",
    "\n",
    "newMemoryDf = newMemoryDf.withColumn(\"RSIZE\", newMemoryDf[\"RSIZE\"].cast(FloatType()))\n",
    "newMemoryDf.show(5)"
   ]
  },
  {
   "cell_type": "code",
   "execution_count": 21,
   "metadata": {},
   "outputs": [
    {
     "name": "stdout",
     "output_type": "stream",
     "text": [
      "+----------+----+--------+------+------+-----+-----+-----+-----+----+--------------+------+------+\n",
      "|        ts| PID|  MINFLT|MAJFLT|VSTEXT|VSIZE|RSIZE|VGROW|RGROW| MEM|           CMD|attack|  type|\n",
      "+----------+----+--------+------+------+-----+-----+-----+-----+----+--------------+------+------+\n",
      "|1554218915|3257|859502.0|  54.0| 193.0|  2.0|519.1|  2.0|519.1|0.14|   Web-Content|     0|normal|\n",
      "|1554218920|3197|247354.0|  95.0| 193.0|  2.6|402.0|  2.6|  402|0.11|       firefox|     0|normal|\n",
      "|1554218925|1442| 57311.0|  33.0|2219.0|764.2|290.7|764.2|290.7|0.08|          Xorg|     0|normal|\n",
      "|1554218930|3119| 68006.0|  17.0|3063.0|725.9|116.8|725.9|116.8|0.03|update-manager|     0|normal|\n",
      "|1554218935|2797| 72300.0|  69.0|1350.0|  1.4|109.6|  1.4|109.6|0.03|      nautilus|     0|normal|\n",
      "+----------+----+--------+------+------+-----+-----+-----+-----+----+--------------+------+------+\n",
      "only showing top 5 rows\n",
      "\n"
     ]
    }
   ],
   "source": [
    "#VGROW replace and type change\n",
    "replaceSPC = udf(lambda x: str(float(x.replace(\" \", \"\"))) if \" \" in x else x, StringType())\n",
    "newMemoryDf = newMemoryDf.withColumn(\"VGROW\", replaceSPC(\"VGROW\"))\n",
    "\n",
    "replaceK = udf(lambda y: str(float(y.replace(\"K\", \"\"))*1000) if \"K\" in y else y, StringType())\n",
    "newMemoryDf = newMemoryDf.withColumn(\"VGROW\", replaceK(\"VGROW\"))\n",
    "\n",
    "newMemoryDf = newMemoryDf.withColumn(\"VGROW\", newMemoryDf[\"VGROW\"].cast(FloatType()))\n",
    "newMemoryDf.show(5)"
   ]
  },
  {
   "cell_type": "code",
   "execution_count": 22,
   "metadata": {},
   "outputs": [
    {
     "name": "stdout",
     "output_type": "stream",
     "text": [
      "+----------+----+--------+------+------+-----+-----+-----+-----+----+--------------+------+------+\n",
      "|        ts| PID|  MINFLT|MAJFLT|VSTEXT|VSIZE|RSIZE|VGROW|RGROW| MEM|           CMD|attack|  type|\n",
      "+----------+----+--------+------+------+-----+-----+-----+-----+----+--------------+------+------+\n",
      "|1554218915|3257|859502.0|  54.0| 193.0|  2.0|519.1|  2.0|519.1|0.14|   Web-Content|     0|normal|\n",
      "|1554218920|3197|247354.0|  95.0| 193.0|  2.6|402.0|  2.6|402.0|0.11|       firefox|     0|normal|\n",
      "|1554218925|1442| 57311.0|  33.0|2219.0|764.2|290.7|764.2|290.7|0.08|          Xorg|     0|normal|\n",
      "|1554218930|3119| 68006.0|  17.0|3063.0|725.9|116.8|725.9|116.8|0.03|update-manager|     0|normal|\n",
      "|1554218935|2797| 72300.0|  69.0|1350.0|  1.4|109.6|  1.4|109.6|0.03|      nautilus|     0|normal|\n",
      "+----------+----+--------+------+------+-----+-----+-----+-----+----+--------------+------+------+\n",
      "only showing top 5 rows\n",
      "\n"
     ]
    }
   ],
   "source": [
    "#RGROW replace and type change\n",
    "replaceK = udf(lambda x: float(x.replace(\"K\", \"\"))*1000 if \"K\" in x else float(x), FloatType())\n",
    "newMemoryDf = newMemoryDf.withColumn(\"RGROW\", replaceK(\"RGROW\"))\n",
    "newMemoryDf.show(5)"
   ]
  },
  {
   "cell_type": "markdown",
   "metadata": {},
   "source": [
    "## 1.3\n",
    "### 1.3.1"
   ]
  },
  {
   "cell_type": "code",
   "execution_count": 23,
   "metadata": {},
   "outputs": [
    {
     "name": "stdout",
     "output_type": "stream",
     "text": [
      "+------+------------+\n",
      "|attack|attack Count|\n",
      "+------+------------+\n",
      "|     1|      205623|\n",
      "|     0|     1794377|\n",
      "+------+------------+\n",
      "\n"
     ]
    }
   ],
   "source": [
    "# grouping and returning count of the attack or non attack in attack column in memory data\n",
    "memoryAttackCount = newMemoryDf.groupby(newMemoryDf['attack'])\\\n",
    "        .agg(f.count(newMemoryDf['attack']).alias('attack Count')).show()"
   ]
  },
  {
   "cell_type": "code",
   "execution_count": 24,
   "metadata": {},
   "outputs": [
    {
     "name": "stdout",
     "output_type": "stream",
     "text": [
      "+------+------------+\n",
      "|attack|attack Count|\n",
      "+------+------------+\n",
      "|     1|      291364|\n",
      "|     0|     1636604|\n",
      "+------+------------+\n",
      "\n"
     ]
    }
   ],
   "source": [
    "# grouping and returning count of the attack or non attack in attack column in process data\n",
    "processAttackCount = newProcessDf.groupby(newProcessDf['attack'])\\\n",
    "                    .agg(f.count(newProcessDf['attack']).alias('attack Count')).show()"
   ]
  },
  {
   "cell_type": "code",
   "execution_count": 25,
   "metadata": {},
   "outputs": [
    {
     "name": "stdout",
     "output_type": "stream",
     "text": [
      "+---------+------------+\n",
      "|     type|attack types|\n",
      "+---------+------------+\n",
      "| password|       26016|\n",
      "|     ddos|       45689|\n",
      "|   normal|     1794377|\n",
      "|     mitm|         112|\n",
      "|injection|       58523|\n",
      "|      dos|       75283|\n",
      "+---------+------------+\n",
      "\n"
     ]
    }
   ],
   "source": [
    "# counting and grouping od types of attack in memory\n",
    "memoryAttackTypeCount = newMemoryDf.groupby(newMemoryDf['type']).agg(f.count(newMemoryDf['type'])\\\n",
    "                                                                     .alias('attack types')).show()"
   ]
  },
  {
   "cell_type": "code",
   "execution_count": 26,
   "metadata": {},
   "outputs": [
    {
     "name": "stdout",
     "output_type": "stream",
     "text": [
      "+---------+------------+\n",
      "|     type|attack types|\n",
      "+---------+------------+\n",
      "|      xss|       17759|\n",
      "| password|       51409|\n",
      "| scanning|       38449|\n",
      "|     ddos|       71603|\n",
      "|   normal|     1636604|\n",
      "|     mitm|         112|\n",
      "|injection|       41311|\n",
      "|      dos|       70721|\n",
      "+---------+------------+\n",
      "\n"
     ]
    }
   ],
   "source": [
    "# counting and grouping od types of attack in process\n",
    "processAttackTypeCount = newProcessDf.groupby(newProcessDf['type'])\\\n",
    "                        .agg(f.count(newProcessDf['type']).alias('attack types')).show()"
   ]
  },
  {
   "cell_type": "markdown",
   "metadata": {},
   "source": [
    "### 1.3.2"
   ]
  },
  {
   "cell_type": "code",
   "execution_count": 27,
   "metadata": {},
   "outputs": [
    {
     "name": "stdout",
     "output_type": "stream",
     "text": [
      "+-------+------------------+\n",
      "|summary|                ts|\n",
      "+-------+------------------+\n",
      "|  count|           2000000|\n",
      "|   mean|1.55624581707609E9|\n",
      "| stddev| 984463.3683082614|\n",
      "|    min|        1554216855|\n",
      "|    max|        1558355716|\n",
      "+-------+------------------+\n",
      "\n",
      "+-------+-----------------+\n",
      "|summary|              PID|\n",
      "+-------+-----------------+\n",
      "|  count|          2000000|\n",
      "|   mean|      4999.360446|\n",
      "| stddev|4887.313351921488|\n",
      "|    min|             1007|\n",
      "|    max|            53096|\n",
      "+-------+-----------------+\n",
      "\n",
      "+-------+------------------+\n",
      "|summary|            MINFLT|\n",
      "+-------+------------------+\n",
      "|  count|           1990263|\n",
      "|   mean|404.51371904115183|\n",
      "| stddev| 17185.87691600473|\n",
      "|    min|                 0|\n",
      "|    max|           8050000|\n",
      "+-------+------------------+\n",
      "\n",
      "+-------+------------------+\n",
      "|summary|            MAJFLT|\n",
      "+-------+------------------+\n",
      "|  count|           1551132|\n",
      "|   mean|1336.2793443755916|\n",
      "| stddev| 5856.323936313231|\n",
      "|    min|                 0|\n",
      "|    max|            107776|\n",
      "+-------+------------------+\n",
      "\n",
      "+-------+------------------+\n",
      "|summary|            VSTEXT|\n",
      "+-------+------------------+\n",
      "|  count|           1972093|\n",
      "|   mean|2838.6479684274523|\n",
      "| stddev|  8227.77061936655|\n",
      "|    min|                 0|\n",
      "|    max|             99992|\n",
      "+-------+------------------+\n",
      "\n",
      "+-------+------------------+\n",
      "|summary|             VSIZE|\n",
      "+-------+------------------+\n",
      "|  count|           1476042|\n",
      "|   mean| 5978.104612199382|\n",
      "| stddev|10122.906985353173|\n",
      "|    min|                 0|\n",
      "|    max|             88040|\n",
      "+-------+------------------+\n",
      "\n",
      "+-------+------------------+\n",
      "|summary|             RSIZE|\n",
      "+-------+------------------+\n",
      "|  count|           1916455|\n",
      "|   mean|  6375.02107902351|\n",
      "| stddev|16177.092034461124|\n",
      "|    min|             -9728|\n",
      "|    max|             99932|\n",
      "+-------+------------------+\n",
      "\n",
      "+-------+------------------+\n",
      "|summary|             VGROW|\n",
      "+-------+------------------+\n",
      "|  count|           1949088|\n",
      "|   mean|187.86271835853486|\n",
      "| stddev| 2962.047515144102|\n",
      "|    min|             -8652|\n",
      "|    max|             99684|\n",
      "+-------+------------------+\n",
      "\n",
      "+-------+------------------+\n",
      "|summary|             RGROW|\n",
      "+-------+------------------+\n",
      "|  count|           1989706|\n",
      "|   mean|485.66557119494036|\n",
      "| stddev| 1494.925920638869|\n",
      "|    min|                 0|\n",
      "|    max|             98920|\n",
      "+-------+------------------+\n",
      "\n",
      "+-------+-------+\n",
      "|summary|    MEM|\n",
      "+-------+-------+\n",
      "|  count|1697724|\n",
      "|   mean|    0.0|\n",
      "| stddev|    0.0|\n",
      "|    min|      0|\n",
      "|    max|      0|\n",
      "+-------+-------+\n",
      "\n",
      "+-------+-------------------+\n",
      "|summary|             attack|\n",
      "+-------+-------------------+\n",
      "|  count|            2000000|\n",
      "|   mean|          0.1028115|\n",
      "| stddev|0.30371259701965264|\n",
      "|    min|                  0|\n",
      "|    max|                  1|\n",
      "+-------+-------------------+\n",
      "\n"
     ]
    }
   ],
   "source": [
    "memoryDf.select('ts').summary(\"count\", \"mean\",\"stddev\",\"min\", \"max\" ).show()\n",
    "memoryDf.select('PID').summary(\"count\", \"mean\",\"stddev\",\"min\", \"max\" ).show()\n",
    "memoryDf.select('MINFLT').summary(\"count\", \"mean\",\"stddev\",\"min\", \"max\" ).show()\n",
    "memoryDf.select('MAJFLT').summary(\"count\", \"mean\",\"stddev\",\"min\", \"max\" ).show()\n",
    "memoryDf.select('VSTEXT').summary(\"count\", \"mean\",\"stddev\",\"min\", \"max\" ).show()\n",
    "memoryDf.select('VSIZE').summary(\"count\", \"mean\",\"stddev\",\"min\", \"max\" ).show()\n",
    "memoryDf.select('RSIZE').summary(\"count\", \"mean\",\"stddev\",\"min\", \"max\" ).show()\n",
    "memoryDf.select('VGROW').summary(\"count\", \"mean\",\"stddev\",\"min\", \"max\" ).show()\n",
    "memoryDf.select('RGROW').summary(\"count\", \"mean\",\"stddev\",\"min\", \"max\" ).show()\n",
    "memoryDf.select('MEM').summary(\"count\", \"mean\",\"stddev\",\"min\", \"max\" ).show()\n",
    "memoryDf.select('attack').summary(\"count\", \"mean\",\"stddev\",\"min\", \"max\" ).show()"
   ]
  },
  {
   "cell_type": "code",
   "execution_count": 28,
   "metadata": {},
   "outputs": [
    {
     "name": "stdout",
     "output_type": "stream",
     "text": [
      "+----------+------+\n",
      "|       CMD| Count|\n",
      "+----------+------+\n",
      "|      atop|325985|\n",
      "|   apache2| 89761|\n",
      "| jfsCommit| 81714|\n",
      "|  vmtoolsd| 77871|\n",
      "|      Xorg| 49981|\n",
      "|  nautilus| 48356|\n",
      "|irqbalance| 44387|\n",
      "|    compiz| 44356|\n",
      "|  ostinato| 43024|\n",
      "|     drone| 41392|\n",
      "+----------+------+\n",
      "only showing top 10 rows\n",
      "\n",
      "+---------+-------+\n",
      "|     type|  Count|\n",
      "+---------+-------+\n",
      "|   normal|1794377|\n",
      "|      dos|  75283|\n",
      "|injection|  58523|\n",
      "|     ddos|  45689|\n",
      "| password|  26016|\n",
      "|     mitm|    112|\n",
      "+---------+-------+\n",
      "\n"
     ]
    }
   ],
   "source": [
    "memoryDf.groupby('CMD').agg(f.count('CMD').alias('Count')).sort('Count', ascending = False).show(10)\n",
    "memoryDf.groupby('type').agg(f.count('type').alias('Count')).sort('Count', ascending = False).show(10)"
   ]
  },
  {
   "cell_type": "code",
   "execution_count": 30,
   "metadata": {},
   "outputs": [
    {
     "name": "stdout",
     "output_type": "stream",
     "text": [
      "+-------+--------------------+\n",
      "|summary|                  ts|\n",
      "+-------+--------------------+\n",
      "|  count|             1927968|\n",
      "|   mean|1.5563198311840394E9|\n",
      "| stddev|   771350.0247950464|\n",
      "|    min|          1554216855|\n",
      "|    max|          1557593017|\n",
      "+-------+--------------------+\n",
      "\n",
      "+-------+-----------------+\n",
      "|summary|              PID|\n",
      "+-------+-----------------+\n",
      "|  count|          1927968|\n",
      "|   mean|5068.709770597852|\n",
      "| stddev|4987.784329320435|\n",
      "|    min|             1007|\n",
      "|    max|            53080|\n",
      "+-------+-----------------+\n",
      "\n",
      "+-------+------------------+\n",
      "|summary|              TRUN|\n",
      "+-------+------------------+\n",
      "|  count|           1927968|\n",
      "|   mean|0.0632287465352122|\n",
      "| stddev|0.2478258709041604|\n",
      "|    min|                 0|\n",
      "|    max|                12|\n",
      "+-------+------------------+\n",
      "\n",
      "+-------+-----------------+\n",
      "|summary|            TSLPI|\n",
      "+-------+-----------------+\n",
      "|  count|          1927968|\n",
      "|   mean|3.508334163222626|\n",
      "| stddev|6.988459728531843|\n",
      "|    min|                0|\n",
      "|    max|               70|\n",
      "+-------+-----------------+\n",
      "\n",
      "+-------+--------------------+\n",
      "|summary|               TSLPU|\n",
      "+-------+--------------------+\n",
      "|  count|             1927968|\n",
      "|   mean|3.610018423542299...|\n",
      "| stddev|0.044218744192146046|\n",
      "|    min|                   0|\n",
      "|    max|                  21|\n",
      "+-------+--------------------+\n",
      "\n",
      "+-------+-----------------+\n",
      "|summary|             NICE|\n",
      "+-------+-----------------+\n",
      "|  count|          1927968|\n",
      "|   mean|4.634469555511295|\n",
      "| stddev|8.403189864752086|\n",
      "|    min|                0|\n",
      "|    max|               20|\n",
      "+-------+-----------------+\n",
      "\n",
      "+-------+------------------+\n",
      "|summary|               PRI|\n",
      "+-------+------------------+\n",
      "|  count|           1927968|\n",
      "|   mean|111.26826741937626|\n",
      "| stddev|22.624445062102843|\n",
      "|    min|                 0|\n",
      "|    max|               139|\n",
      "+-------+------------------+\n",
      "\n",
      "+-------+-------+\n",
      "|summary|   RTPR|\n",
      "+-------+-------+\n",
      "|  count|1927968|\n",
      "|   mean|    0.0|\n",
      "| stddev|    0.0|\n",
      "|    min|      0|\n",
      "|    max|      0|\n",
      "+-------+-------+\n",
      "\n",
      "+-------+------------------+\n",
      "|summary|             CPUNR|\n",
      "+-------+------------------+\n",
      "|  count|           1927968|\n",
      "|   mean|1.9210142491991569|\n",
      "| stddev| 1.527404722590301|\n",
      "|    min|                 0|\n",
      "|    max|                 5|\n",
      "+-------+------------------+\n",
      "\n",
      "+-------+--------------------+\n",
      "|summary|                 EXC|\n",
      "+-------+--------------------+\n",
      "|  count|             1927968|\n",
      "|   mean|0.030275398761805176|\n",
      "| stddev|  1.4619498567691918|\n",
      "|    min|                   0|\n",
      "|    max|                 127|\n",
      "+-------+--------------------+\n",
      "\n",
      "+-------+--------------------+\n",
      "|summary|                 CPU|\n",
      "+-------+--------------------+\n",
      "|  count|             1415594|\n",
      "|   mean|0.002704165177303662|\n",
      "| stddev| 0.05423352385038909|\n",
      "|    min|                   0|\n",
      "|    max|                   4|\n",
      "+-------+--------------------+\n",
      "\n",
      "+-------+------------------+\n",
      "|summary|            attack|\n",
      "+-------+------------------+\n",
      "|  count|           1927968|\n",
      "|   mean|0.1511249149363475|\n",
      "| stddev|0.3581706877473928|\n",
      "|    min|                 0|\n",
      "|    max|                 1|\n",
      "+-------+------------------+\n",
      "\n"
     ]
    }
   ],
   "source": [
    "processDf.select('ts').summary(\"count\", \"mean\",\"stddev\",\"min\", \"max\" ).show()\n",
    "processDf.select('PID').summary(\"count\", \"mean\",\"stddev\",\"min\", \"max\" ).show()\n",
    "processDf.select('TRUN').summary(\"count\", \"mean\",\"stddev\",\"min\", \"max\" ).show()\n",
    "processDf.select('TSLPI').summary(\"count\", \"mean\",\"stddev\",\"min\", \"max\" ).show()\n",
    "processDf.select('TSLPU').summary(\"count\", \"mean\",\"stddev\",\"min\", \"max\" ).show()\n",
    "processDf.select('NICE').summary(\"count\", \"mean\",\"stddev\",\"min\", \"max\" ).show()\n",
    "processDf.select('PRI').summary(\"count\", \"mean\",\"stddev\",\"min\", \"max\" ).show()\n",
    "processDf.select('RTPR').summary(\"count\", \"mean\",\"stddev\",\"min\", \"max\" ).show()\n",
    "processDf.select('CPUNR').summary(\"count\", \"mean\",\"stddev\",\"min\", \"max\" ).show()\n",
    "processDf.select('EXC').summary(\"count\", \"mean\",\"stddev\",\"min\", \"max\" ).show()\n",
    "processDf.select('CPU').summary(\"count\", \"mean\",\"stddev\",\"min\", \"max\" ).show()\n",
    "processDf.select('attack').summary(\"count\", \"mean\",\"stddev\",\"min\", \"max\" ).show()"
   ]
  },
  {
   "cell_type": "code",
   "execution_count": 29,
   "metadata": {},
   "outputs": [
    {
     "name": "stdout",
     "output_type": "stream",
     "text": [
      "+----+-------+\n",
      "|POLI|  Count|\n",
      "+----+-------+\n",
      "|norm|1861558|\n",
      "|   0|  53216|\n",
      "|   -|  13194|\n",
      "+----+-------+\n",
      "\n",
      "+------+-------+\n",
      "|Status|  Count|\n",
      "+------+-------+\n",
      "|     -|1416322|\n",
      "|     0| 438984|\n",
      "|    NE|  48602|\n",
      "|     N|  23313|\n",
      "|    NS|    743|\n",
      "|     C|      3|\n",
      "|    NC|      1|\n",
      "+------+-------+\n",
      "\n",
      "+--------------+------+\n",
      "|           CMD| Count|\n",
      "+--------------+------+\n",
      "|          atop|441180|\n",
      "|       apache2|313143|\n",
      "|      vmtoolsd|112029|\n",
      "|          Xorg| 66813|\n",
      "|      nautilus| 63449|\n",
      "|gnome-terminal| 47628|\n",
      "|        compiz| 44386|\n",
      "|    irqbalance| 44324|\n",
      "|      ostinato| 42979|\n",
      "|         drone| 41390|\n",
      "+--------------+------+\n",
      "only showing top 10 rows\n",
      "\n",
      "+---------+-------+\n",
      "|     type|  Count|\n",
      "+---------+-------+\n",
      "|   normal|1636604|\n",
      "|     ddos|  71603|\n",
      "|      dos|  70721|\n",
      "| password|  51409|\n",
      "|injection|  41311|\n",
      "| scanning|  38449|\n",
      "|      xss|  17759|\n",
      "|     mitm|    112|\n",
      "+---------+-------+\n",
      "\n"
     ]
    }
   ],
   "source": [
    "processDf.groupby('POLI').agg(f.count('POLI').alias('Count')).sort('Count', ascending = False).show(10)\n",
    "processDf.groupby('Status').agg(f.count('Status').alias('Count')).sort('Count', ascending = False).show(10)\n",
    "processDf.groupby('CMD').agg(f.count('CMD').alias('Count')).sort('Count', ascending = False).show(10)\n",
    "processDf.groupby('type').agg(f.count('type').alias('Count')).sort('Count', ascending = False).show(10)"
   ]
  },
  {
   "cell_type": "markdown",
   "metadata": {},
   "source": [
    "# 1.3 class Imbalance:\n",
    "\n",
    "In the above part we have found out the count of attack and non attack values in attack column and type column in both the dataframes i.e process, memory. Looking at the count of attack in memory dataframe 205623 are the cases where there was an attack and 1794377 where cases where no attack was found as we can see there is a huge difference between both the cases this will imbalance the training and testing dataset as data would not be able to classify between the class as there are so many cases of non attack events that and the model would not be able to predict with a good accuracy as data is bit biased and would only have majority of share as non attack events. \n",
    "\n",
    "Similar is the case with process dataframe where there are 291364 entries of attack event and 1636604 entries of non-attack events. This will lead to similar type of issue where the model would not be able to predict the model fairly. This is due to class imbalance and is faced in many model.\n",
    "\n",
    "\n",
    "Thus accuracy is affected by the imbanced ratio within the data and affects the model. Due to this the model while not be able to train to predict the accuracy."
   ]
  },
  {
   "cell_type": "markdown",
   "metadata": {},
   "source": [
    "# 1.3.3"
   ]
  },
  {
   "cell_type": "code",
   "execution_count": 30,
   "metadata": {},
   "outputs": [
    {
     "data": {
      "text/html": [
       "<style  type=\"text/css\" >\n",
       "    #T_47dcab16_06c7_11eb_82d4_e30b0dfbf0f6row0_col0 {\n",
       "            background-color:  #00441b;\n",
       "            color:  #f1f1f1;\n",
       "        }    #T_47dcab16_06c7_11eb_82d4_e30b0dfbf0f6row0_col1 {\n",
       "            background-color:  #f7fcf5;\n",
       "            color:  #000000;\n",
       "        }    #T_47dcab16_06c7_11eb_82d4_e30b0dfbf0f6row0_col2 {\n",
       "            background-color:  #f6fcf4;\n",
       "            color:  #000000;\n",
       "        }    #T_47dcab16_06c7_11eb_82d4_e30b0dfbf0f6row0_col3 {\n",
       "            background-color:  #f2faf0;\n",
       "            color:  #000000;\n",
       "        }    #T_47dcab16_06c7_11eb_82d4_e30b0dfbf0f6row0_col4 {\n",
       "            background-color:  #f2faef;\n",
       "            color:  #000000;\n",
       "        }    #T_47dcab16_06c7_11eb_82d4_e30b0dfbf0f6row0_col5 {\n",
       "            background-color:  #f0f9ec;\n",
       "            color:  #000000;\n",
       "        }    #T_47dcab16_06c7_11eb_82d4_e30b0dfbf0f6row0_col6 {\n",
       "            background-color:  #f6fcf4;\n",
       "            color:  #000000;\n",
       "        }    #T_47dcab16_06c7_11eb_82d4_e30b0dfbf0f6row0_col7 {\n",
       "            background-color:  #f7fcf5;\n",
       "            color:  #000000;\n",
       "        }    #T_47dcab16_06c7_11eb_82d4_e30b0dfbf0f6row0_col8 {\n",
       "            background-color:  #90d18d;\n",
       "            color:  #000000;\n",
       "        }    #T_47dcab16_06c7_11eb_82d4_e30b0dfbf0f6row0_col9 {\n",
       "            background-color:  #e0f3db;\n",
       "            color:  #000000;\n",
       "        }    #T_47dcab16_06c7_11eb_82d4_e30b0dfbf0f6row0_col10 {\n",
       "            background-color:  #e5f5e1;\n",
       "            color:  #000000;\n",
       "        }    #T_47dcab16_06c7_11eb_82d4_e30b0dfbf0f6row1_col0 {\n",
       "            background-color:  #f7fcf5;\n",
       "            color:  #000000;\n",
       "        }    #T_47dcab16_06c7_11eb_82d4_e30b0dfbf0f6row1_col1 {\n",
       "            background-color:  #00441b;\n",
       "            color:  #f1f1f1;\n",
       "        }    #T_47dcab16_06c7_11eb_82d4_e30b0dfbf0f6row1_col2 {\n",
       "            background-color:  #ecf8e8;\n",
       "            color:  #000000;\n",
       "        }    #T_47dcab16_06c7_11eb_82d4_e30b0dfbf0f6row1_col3 {\n",
       "            background-color:  #d6efd0;\n",
       "            color:  #000000;\n",
       "        }    #T_47dcab16_06c7_11eb_82d4_e30b0dfbf0f6row1_col4 {\n",
       "            background-color:  #d6efd0;\n",
       "            color:  #000000;\n",
       "        }    #T_47dcab16_06c7_11eb_82d4_e30b0dfbf0f6row1_col5 {\n",
       "            background-color:  #f7fcf5;\n",
       "            color:  #000000;\n",
       "        }    #T_47dcab16_06c7_11eb_82d4_e30b0dfbf0f6row1_col6 {\n",
       "            background-color:  #f6fcf4;\n",
       "            color:  #000000;\n",
       "        }    #T_47dcab16_06c7_11eb_82d4_e30b0dfbf0f6row1_col7 {\n",
       "            background-color:  #f5fbf3;\n",
       "            color:  #000000;\n",
       "        }    #T_47dcab16_06c7_11eb_82d4_e30b0dfbf0f6row1_col8 {\n",
       "            background-color:  #f7fcf5;\n",
       "            color:  #000000;\n",
       "        }    #T_47dcab16_06c7_11eb_82d4_e30b0dfbf0f6row1_col9 {\n",
       "            background-color:  #f5fbf3;\n",
       "            color:  #000000;\n",
       "        }    #T_47dcab16_06c7_11eb_82d4_e30b0dfbf0f6row1_col10 {\n",
       "            background-color:  #f7fcf5;\n",
       "            color:  #000000;\n",
       "        }    #T_47dcab16_06c7_11eb_82d4_e30b0dfbf0f6row2_col0 {\n",
       "            background-color:  #abdda5;\n",
       "            color:  #000000;\n",
       "        }    #T_47dcab16_06c7_11eb_82d4_e30b0dfbf0f6row2_col1 {\n",
       "            background-color:  #9cd797;\n",
       "            color:  #000000;\n",
       "        }    #T_47dcab16_06c7_11eb_82d4_e30b0dfbf0f6row2_col2 {\n",
       "            background-color:  #00441b;\n",
       "            color:  #f1f1f1;\n",
       "        }    #T_47dcab16_06c7_11eb_82d4_e30b0dfbf0f6row2_col3 {\n",
       "            background-color:  #80ca80;\n",
       "            color:  #000000;\n",
       "        }    #T_47dcab16_06c7_11eb_82d4_e30b0dfbf0f6row2_col4 {\n",
       "            background-color:  #80ca80;\n",
       "            color:  #000000;\n",
       "        }    #T_47dcab16_06c7_11eb_82d4_e30b0dfbf0f6row2_col5 {\n",
       "            background-color:  #e3f4de;\n",
       "            color:  #000000;\n",
       "        }    #T_47dcab16_06c7_11eb_82d4_e30b0dfbf0f6row2_col6 {\n",
       "            background-color:  #eff9ec;\n",
       "            color:  #000000;\n",
       "        }    #T_47dcab16_06c7_11eb_82d4_e30b0dfbf0f6row2_col7 {\n",
       "            background-color:  #eff9eb;\n",
       "            color:  #000000;\n",
       "        }    #T_47dcab16_06c7_11eb_82d4_e30b0dfbf0f6row2_col8 {\n",
       "            background-color:  #dff3da;\n",
       "            color:  #000000;\n",
       "        }    #T_47dcab16_06c7_11eb_82d4_e30b0dfbf0f6row2_col9 {\n",
       "            background-color:  #e7f6e3;\n",
       "            color:  #000000;\n",
       "        }    #T_47dcab16_06c7_11eb_82d4_e30b0dfbf0f6row2_col10 {\n",
       "            background-color:  #dbf1d6;\n",
       "            color:  #000000;\n",
       "        }    #T_47dcab16_06c7_11eb_82d4_e30b0dfbf0f6row3_col0 {\n",
       "            background-color:  #aadda4;\n",
       "            color:  #000000;\n",
       "        }    #T_47dcab16_06c7_11eb_82d4_e30b0dfbf0f6row3_col1 {\n",
       "            background-color:  #86cc85;\n",
       "            color:  #000000;\n",
       "        }    #T_47dcab16_06c7_11eb_82d4_e30b0dfbf0f6row3_col2 {\n",
       "            background-color:  #84cc83;\n",
       "            color:  #000000;\n",
       "        }    #T_47dcab16_06c7_11eb_82d4_e30b0dfbf0f6row3_col3 {\n",
       "            background-color:  #00441b;\n",
       "            color:  #f1f1f1;\n",
       "        }    #T_47dcab16_06c7_11eb_82d4_e30b0dfbf0f6row3_col4 {\n",
       "            background-color:  #00441b;\n",
       "            color:  #f1f1f1;\n",
       "        }    #T_47dcab16_06c7_11eb_82d4_e30b0dfbf0f6row3_col5 {\n",
       "            background-color:  #e9f7e5;\n",
       "            color:  #000000;\n",
       "        }    #T_47dcab16_06c7_11eb_82d4_e30b0dfbf0f6row3_col6 {\n",
       "            background-color:  #e6f5e1;\n",
       "            color:  #000000;\n",
       "        }    #T_47dcab16_06c7_11eb_82d4_e30b0dfbf0f6row3_col7 {\n",
       "            background-color:  #e4f5df;\n",
       "            color:  #000000;\n",
       "        }    #T_47dcab16_06c7_11eb_82d4_e30b0dfbf0f6row3_col8 {\n",
       "            background-color:  #e3f4de;\n",
       "            color:  #000000;\n",
       "        }    #T_47dcab16_06c7_11eb_82d4_e30b0dfbf0f6row3_col9 {\n",
       "            background-color:  #e8f6e4;\n",
       "            color:  #000000;\n",
       "        }    #T_47dcab16_06c7_11eb_82d4_e30b0dfbf0f6row3_col10 {\n",
       "            background-color:  #c3e7bc;\n",
       "            color:  #000000;\n",
       "        }    #T_47dcab16_06c7_11eb_82d4_e30b0dfbf0f6row4_col0 {\n",
       "            background-color:  #aadda4;\n",
       "            color:  #000000;\n",
       "        }    #T_47dcab16_06c7_11eb_82d4_e30b0dfbf0f6row4_col1 {\n",
       "            background-color:  #86cc85;\n",
       "            color:  #000000;\n",
       "        }    #T_47dcab16_06c7_11eb_82d4_e30b0dfbf0f6row4_col2 {\n",
       "            background-color:  #84cc83;\n",
       "            color:  #000000;\n",
       "        }    #T_47dcab16_06c7_11eb_82d4_e30b0dfbf0f6row4_col3 {\n",
       "            background-color:  #00441b;\n",
       "            color:  #f1f1f1;\n",
       "        }    #T_47dcab16_06c7_11eb_82d4_e30b0dfbf0f6row4_col4 {\n",
       "            background-color:  #00441b;\n",
       "            color:  #f1f1f1;\n",
       "        }    #T_47dcab16_06c7_11eb_82d4_e30b0dfbf0f6row4_col5 {\n",
       "            background-color:  #e9f7e5;\n",
       "            color:  #000000;\n",
       "        }    #T_47dcab16_06c7_11eb_82d4_e30b0dfbf0f6row4_col6 {\n",
       "            background-color:  #e7f6e3;\n",
       "            color:  #000000;\n",
       "        }    #T_47dcab16_06c7_11eb_82d4_e30b0dfbf0f6row4_col7 {\n",
       "            background-color:  #e5f5e0;\n",
       "            color:  #000000;\n",
       "        }    #T_47dcab16_06c7_11eb_82d4_e30b0dfbf0f6row4_col8 {\n",
       "            background-color:  #e3f4de;\n",
       "            color:  #000000;\n",
       "        }    #T_47dcab16_06c7_11eb_82d4_e30b0dfbf0f6row4_col9 {\n",
       "            background-color:  #e8f6e4;\n",
       "            color:  #000000;\n",
       "        }    #T_47dcab16_06c7_11eb_82d4_e30b0dfbf0f6row4_col10 {\n",
       "            background-color:  #c3e7bc;\n",
       "            color:  #000000;\n",
       "        }    #T_47dcab16_06c7_11eb_82d4_e30b0dfbf0f6row5_col0 {\n",
       "            background-color:  #bce4b5;\n",
       "            color:  #000000;\n",
       "        }    #T_47dcab16_06c7_11eb_82d4_e30b0dfbf0f6row5_col1 {\n",
       "            background-color:  #c7e9c0;\n",
       "            color:  #000000;\n",
       "        }    #T_47dcab16_06c7_11eb_82d4_e30b0dfbf0f6row5_col2 {\n",
       "            background-color:  #f4fbf2;\n",
       "            color:  #000000;\n",
       "        }    #T_47dcab16_06c7_11eb_82d4_e30b0dfbf0f6row5_col3 {\n",
       "            background-color:  #f7fcf5;\n",
       "            color:  #000000;\n",
       "        }    #T_47dcab16_06c7_11eb_82d4_e30b0dfbf0f6row5_col4 {\n",
       "            background-color:  #f7fcf5;\n",
       "            color:  #000000;\n",
       "        }    #T_47dcab16_06c7_11eb_82d4_e30b0dfbf0f6row5_col5 {\n",
       "            background-color:  #00441b;\n",
       "            color:  #f1f1f1;\n",
       "        }    #T_47dcab16_06c7_11eb_82d4_e30b0dfbf0f6row5_col6 {\n",
       "            background-color:  #f7fcf5;\n",
       "            color:  #000000;\n",
       "        }    #T_47dcab16_06c7_11eb_82d4_e30b0dfbf0f6row5_col7 {\n",
       "            background-color:  #f6fcf4;\n",
       "            color:  #000000;\n",
       "        }    #T_47dcab16_06c7_11eb_82d4_e30b0dfbf0f6row5_col8 {\n",
       "            background-color:  #f3faf0;\n",
       "            color:  #000000;\n",
       "        }    #T_47dcab16_06c7_11eb_82d4_e30b0dfbf0f6row5_col9 {\n",
       "            background-color:  #f7fcf5;\n",
       "            color:  #000000;\n",
       "        }    #T_47dcab16_06c7_11eb_82d4_e30b0dfbf0f6row5_col10 {\n",
       "            background-color:  #ebf7e7;\n",
       "            color:  #000000;\n",
       "        }    #T_47dcab16_06c7_11eb_82d4_e30b0dfbf0f6row6_col0 {\n",
       "            background-color:  #aadda4;\n",
       "            color:  #000000;\n",
       "        }    #T_47dcab16_06c7_11eb_82d4_e30b0dfbf0f6row6_col1 {\n",
       "            background-color:  #a9dca3;\n",
       "            color:  #000000;\n",
       "        }    #T_47dcab16_06c7_11eb_82d4_e30b0dfbf0f6row6_col2 {\n",
       "            background-color:  #eff9eb;\n",
       "            color:  #000000;\n",
       "        }    #T_47dcab16_06c7_11eb_82d4_e30b0dfbf0f6row6_col3 {\n",
       "            background-color:  #e1f3dc;\n",
       "            color:  #000000;\n",
       "        }    #T_47dcab16_06c7_11eb_82d4_e30b0dfbf0f6row6_col4 {\n",
       "            background-color:  #e2f4dd;\n",
       "            color:  #000000;\n",
       "        }    #T_47dcab16_06c7_11eb_82d4_e30b0dfbf0f6row6_col5 {\n",
       "            background-color:  #e5f5e1;\n",
       "            color:  #000000;\n",
       "        }    #T_47dcab16_06c7_11eb_82d4_e30b0dfbf0f6row6_col6 {\n",
       "            background-color:  #00441b;\n",
       "            color:  #f1f1f1;\n",
       "        }    #T_47dcab16_06c7_11eb_82d4_e30b0dfbf0f6row6_col7 {\n",
       "            background-color:  #00491d;\n",
       "            color:  #f1f1f1;\n",
       "        }    #T_47dcab16_06c7_11eb_82d4_e30b0dfbf0f6row6_col8 {\n",
       "            background-color:  #dff3da;\n",
       "            color:  #000000;\n",
       "        }    #T_47dcab16_06c7_11eb_82d4_e30b0dfbf0f6row6_col9 {\n",
       "            background-color:  #e5f5e1;\n",
       "            color:  #000000;\n",
       "        }    #T_47dcab16_06c7_11eb_82d4_e30b0dfbf0f6row6_col10 {\n",
       "            background-color:  #e8f6e3;\n",
       "            color:  #000000;\n",
       "        }    #T_47dcab16_06c7_11eb_82d4_e30b0dfbf0f6row7_col0 {\n",
       "            background-color:  #aadda4;\n",
       "            color:  #000000;\n",
       "        }    #T_47dcab16_06c7_11eb_82d4_e30b0dfbf0f6row7_col1 {\n",
       "            background-color:  #a8dca2;\n",
       "            color:  #000000;\n",
       "        }    #T_47dcab16_06c7_11eb_82d4_e30b0dfbf0f6row7_col2 {\n",
       "            background-color:  #edf8ea;\n",
       "            color:  #000000;\n",
       "        }    #T_47dcab16_06c7_11eb_82d4_e30b0dfbf0f6row7_col3 {\n",
       "            background-color:  #ddf2d8;\n",
       "            color:  #000000;\n",
       "        }    #T_47dcab16_06c7_11eb_82d4_e30b0dfbf0f6row7_col4 {\n",
       "            background-color:  #def2d9;\n",
       "            color:  #000000;\n",
       "        }    #T_47dcab16_06c7_11eb_82d4_e30b0dfbf0f6row7_col5 {\n",
       "            background-color:  #e4f5df;\n",
       "            color:  #000000;\n",
       "        }    #T_47dcab16_06c7_11eb_82d4_e30b0dfbf0f6row7_col6 {\n",
       "            background-color:  #00491d;\n",
       "            color:  #f1f1f1;\n",
       "        }    #T_47dcab16_06c7_11eb_82d4_e30b0dfbf0f6row7_col7 {\n",
       "            background-color:  #00441b;\n",
       "            color:  #f1f1f1;\n",
       "        }    #T_47dcab16_06c7_11eb_82d4_e30b0dfbf0f6row7_col8 {\n",
       "            background-color:  #dff3da;\n",
       "            color:  #000000;\n",
       "        }    #T_47dcab16_06c7_11eb_82d4_e30b0dfbf0f6row7_col9 {\n",
       "            background-color:  #e5f5e0;\n",
       "            color:  #000000;\n",
       "        }    #T_47dcab16_06c7_11eb_82d4_e30b0dfbf0f6row7_col10 {\n",
       "            background-color:  #e7f6e3;\n",
       "            color:  #000000;\n",
       "        }    #T_47dcab16_06c7_11eb_82d4_e30b0dfbf0f6row8_col0 {\n",
       "            background-color:  #5db96b;\n",
       "            color:  #000000;\n",
       "        }    #T_47dcab16_06c7_11eb_82d4_e30b0dfbf0f6row8_col1 {\n",
       "            background-color:  #ccebc6;\n",
       "            color:  #000000;\n",
       "        }    #T_47dcab16_06c7_11eb_82d4_e30b0dfbf0f6row8_col2 {\n",
       "            background-color:  #f6fcf4;\n",
       "            color:  #000000;\n",
       "        }    #T_47dcab16_06c7_11eb_82d4_e30b0dfbf0f6row8_col3 {\n",
       "            background-color:  #f6fcf4;\n",
       "            color:  #000000;\n",
       "        }    #T_47dcab16_06c7_11eb_82d4_e30b0dfbf0f6row8_col4 {\n",
       "            background-color:  #f5fbf3;\n",
       "            color:  #000000;\n",
       "        }    #T_47dcab16_06c7_11eb_82d4_e30b0dfbf0f6row8_col5 {\n",
       "            background-color:  #f7fcf5;\n",
       "            color:  #000000;\n",
       "        }    #T_47dcab16_06c7_11eb_82d4_e30b0dfbf0f6row8_col6 {\n",
       "            background-color:  #f7fcf5;\n",
       "            color:  #000000;\n",
       "        }    #T_47dcab16_06c7_11eb_82d4_e30b0dfbf0f6row8_col7 {\n",
       "            background-color:  #f7fcf5;\n",
       "            color:  #000000;\n",
       "        }    #T_47dcab16_06c7_11eb_82d4_e30b0dfbf0f6row8_col8 {\n",
       "            background-color:  #00441b;\n",
       "            color:  #f1f1f1;\n",
       "        }    #T_47dcab16_06c7_11eb_82d4_e30b0dfbf0f6row8_col9 {\n",
       "            background-color:  #e8f6e4;\n",
       "            color:  #000000;\n",
       "        }    #T_47dcab16_06c7_11eb_82d4_e30b0dfbf0f6row8_col10 {\n",
       "            background-color:  #edf8ea;\n",
       "            color:  #000000;\n",
       "        }    #T_47dcab16_06c7_11eb_82d4_e30b0dfbf0f6row9_col0 {\n",
       "            background-color:  #a5db9f;\n",
       "            color:  #000000;\n",
       "        }    #T_47dcab16_06c7_11eb_82d4_e30b0dfbf0f6row9_col1 {\n",
       "            background-color:  #c3e7bc;\n",
       "            color:  #000000;\n",
       "        }    #T_47dcab16_06c7_11eb_82d4_e30b0dfbf0f6row9_col2 {\n",
       "            background-color:  #f7fcf5;\n",
       "            color:  #000000;\n",
       "        }    #T_47dcab16_06c7_11eb_82d4_e30b0dfbf0f6row9_col3 {\n",
       "            background-color:  #f5fbf3;\n",
       "            color:  #000000;\n",
       "        }    #T_47dcab16_06c7_11eb_82d4_e30b0dfbf0f6row9_col4 {\n",
       "            background-color:  #f5fbf3;\n",
       "            color:  #000000;\n",
       "        }    #T_47dcab16_06c7_11eb_82d4_e30b0dfbf0f6row9_col5 {\n",
       "            background-color:  #f7fcf5;\n",
       "            color:  #000000;\n",
       "        }    #T_47dcab16_06c7_11eb_82d4_e30b0dfbf0f6row9_col6 {\n",
       "            background-color:  #f6fcf4;\n",
       "            color:  #000000;\n",
       "        }    #T_47dcab16_06c7_11eb_82d4_e30b0dfbf0f6row9_col7 {\n",
       "            background-color:  #f7fcf5;\n",
       "            color:  #000000;\n",
       "        }    #T_47dcab16_06c7_11eb_82d4_e30b0dfbf0f6row9_col8 {\n",
       "            background-color:  #e3f4de;\n",
       "            color:  #000000;\n",
       "        }    #T_47dcab16_06c7_11eb_82d4_e30b0dfbf0f6row9_col9 {\n",
       "            background-color:  #00441b;\n",
       "            color:  #f1f1f1;\n",
       "        }    #T_47dcab16_06c7_11eb_82d4_e30b0dfbf0f6row9_col10 {\n",
       "            background-color:  #e9f7e5;\n",
       "            color:  #000000;\n",
       "        }    #T_47dcab16_06c7_11eb_82d4_e30b0dfbf0f6row10_col0 {\n",
       "            background-color:  #a3da9d;\n",
       "            color:  #000000;\n",
       "        }    #T_47dcab16_06c7_11eb_82d4_e30b0dfbf0f6row10_col1 {\n",
       "            background-color:  #bde5b6;\n",
       "            color:  #000000;\n",
       "        }    #T_47dcab16_06c7_11eb_82d4_e30b0dfbf0f6row10_col2 {\n",
       "            background-color:  #e9f7e5;\n",
       "            color:  #000000;\n",
       "        }    #T_47dcab16_06c7_11eb_82d4_e30b0dfbf0f6row10_col3 {\n",
       "            background-color:  #ceecc8;\n",
       "            color:  #000000;\n",
       "        }    #T_47dcab16_06c7_11eb_82d4_e30b0dfbf0f6row10_col4 {\n",
       "            background-color:  #ceecc8;\n",
       "            color:  #000000;\n",
       "        }    #T_47dcab16_06c7_11eb_82d4_e30b0dfbf0f6row10_col5 {\n",
       "            background-color:  #e5f5e1;\n",
       "            color:  #000000;\n",
       "        }    #T_47dcab16_06c7_11eb_82d4_e30b0dfbf0f6row10_col6 {\n",
       "            background-color:  #f3faf0;\n",
       "            color:  #000000;\n",
       "        }    #T_47dcab16_06c7_11eb_82d4_e30b0dfbf0f6row10_col7 {\n",
       "            background-color:  #f3faf0;\n",
       "            color:  #000000;\n",
       "        }    #T_47dcab16_06c7_11eb_82d4_e30b0dfbf0f6row10_col8 {\n",
       "            background-color:  #e3f4de;\n",
       "            color:  #000000;\n",
       "        }    #T_47dcab16_06c7_11eb_82d4_e30b0dfbf0f6row10_col9 {\n",
       "            background-color:  #e3f4de;\n",
       "            color:  #000000;\n",
       "        }    #T_47dcab16_06c7_11eb_82d4_e30b0dfbf0f6row10_col10 {\n",
       "            background-color:  #00441b;\n",
       "            color:  #f1f1f1;\n",
       "        }</style><table id=\"T_47dcab16_06c7_11eb_82d4_e30b0dfbf0f6\" ><thead>    <tr>        <th class=\"blank level0\" ></th>        <th class=\"col_heading level0 col0\" >ts</th>        <th class=\"col_heading level0 col1\" >PID</th>        <th class=\"col_heading level0 col2\" >MINFLT</th>        <th class=\"col_heading level0 col3\" >MAJFLT</th>        <th class=\"col_heading level0 col4\" >VSTEXT</th>        <th class=\"col_heading level0 col5\" >VSIZE</th>        <th class=\"col_heading level0 col6\" >RSIZE</th>        <th class=\"col_heading level0 col7\" >VGROW</th>        <th class=\"col_heading level0 col8\" >RGROW</th>        <th class=\"col_heading level0 col9\" >MEM</th>        <th class=\"col_heading level0 col10\" >attack</th>    </tr></thead><tbody>\n",
       "                <tr>\n",
       "                        <th id=\"T_47dcab16_06c7_11eb_82d4_e30b0dfbf0f6level0_row0\" class=\"row_heading level0 row0\" >ts</th>\n",
       "                        <td id=\"T_47dcab16_06c7_11eb_82d4_e30b0dfbf0f6row0_col0\" class=\"data row0 col0\" >1.00</td>\n",
       "                        <td id=\"T_47dcab16_06c7_11eb_82d4_e30b0dfbf0f6row0_col1\" class=\"data row0 col1\" >-0.53</td>\n",
       "                        <td id=\"T_47dcab16_06c7_11eb_82d4_e30b0dfbf0f6row0_col2\" class=\"data row0 col2\" >-0.00</td>\n",
       "                        <td id=\"T_47dcab16_06c7_11eb_82d4_e30b0dfbf0f6row0_col3\" class=\"data row0 col3\" >-0.00</td>\n",
       "                        <td id=\"T_47dcab16_06c7_11eb_82d4_e30b0dfbf0f6row0_col4\" class=\"data row0 col4\" >0.00</td>\n",
       "                        <td id=\"T_47dcab16_06c7_11eb_82d4_e30b0dfbf0f6row0_col5\" class=\"data row0 col5\" >-0.09</td>\n",
       "                        <td id=\"T_47dcab16_06c7_11eb_82d4_e30b0dfbf0f6row0_col6\" class=\"data row0 col6\" >-0.00</td>\n",
       "                        <td id=\"T_47dcab16_06c7_11eb_82d4_e30b0dfbf0f6row0_col7\" class=\"data row0 col7\" >0.00</td>\n",
       "                        <td id=\"T_47dcab16_06c7_11eb_82d4_e30b0dfbf0f6row0_col8\" class=\"data row0 col8\" >0.32</td>\n",
       "                        <td id=\"T_47dcab16_06c7_11eb_82d4_e30b0dfbf0f6row0_col9\" class=\"data row0 col9\" >0.03</td>\n",
       "                        <td id=\"T_47dcab16_06c7_11eb_82d4_e30b0dfbf0f6row0_col10\" class=\"data row0 col10\" >0.04</td>\n",
       "            </tr>\n",
       "            <tr>\n",
       "                        <th id=\"T_47dcab16_06c7_11eb_82d4_e30b0dfbf0f6level0_row1\" class=\"row_heading level0 row1\" >PID</th>\n",
       "                        <td id=\"T_47dcab16_06c7_11eb_82d4_e30b0dfbf0f6row1_col0\" class=\"data row1 col0\" >-0.53</td>\n",
       "                        <td id=\"T_47dcab16_06c7_11eb_82d4_e30b0dfbf0f6row1_col1\" class=\"data row1 col1\" >1.00</td>\n",
       "                        <td id=\"T_47dcab16_06c7_11eb_82d4_e30b0dfbf0f6row1_col2\" class=\"data row1 col2\" >0.07</td>\n",
       "                        <td id=\"T_47dcab16_06c7_11eb_82d4_e30b0dfbf0f6row1_col3\" class=\"data row1 col3\" >0.16</td>\n",
       "                        <td id=\"T_47dcab16_06c7_11eb_82d4_e30b0dfbf0f6row1_col4\" class=\"data row1 col4\" >0.16</td>\n",
       "                        <td id=\"T_47dcab16_06c7_11eb_82d4_e30b0dfbf0f6row1_col5\" class=\"data row1 col5\" >-0.14</td>\n",
       "                        <td id=\"T_47dcab16_06c7_11eb_82d4_e30b0dfbf0f6row1_col6\" class=\"data row1 col6\" >0.01</td>\n",
       "                        <td id=\"T_47dcab16_06c7_11eb_82d4_e30b0dfbf0f6row1_col7\" class=\"data row1 col7\" >0.01</td>\n",
       "                        <td id=\"T_47dcab16_06c7_11eb_82d4_e30b0dfbf0f6row1_col8\" class=\"data row1 col8\" >-0.18</td>\n",
       "                        <td id=\"T_47dcab16_06c7_11eb_82d4_e30b0dfbf0f6row1_col9\" class=\"data row1 col9\" >-0.12</td>\n",
       "                        <td id=\"T_47dcab16_06c7_11eb_82d4_e30b0dfbf0f6row1_col10\" class=\"data row1 col10\" >-0.10</td>\n",
       "            </tr>\n",
       "            <tr>\n",
       "                        <th id=\"T_47dcab16_06c7_11eb_82d4_e30b0dfbf0f6level0_row2\" class=\"row_heading level0 row2\" >MINFLT</th>\n",
       "                        <td id=\"T_47dcab16_06c7_11eb_82d4_e30b0dfbf0f6row2_col0\" class=\"data row2 col0\" >-0.00</td>\n",
       "                        <td id=\"T_47dcab16_06c7_11eb_82d4_e30b0dfbf0f6row2_col1\" class=\"data row2 col1\" >0.07</td>\n",
       "                        <td id=\"T_47dcab16_06c7_11eb_82d4_e30b0dfbf0f6row2_col2\" class=\"data row2 col2\" >1.00</td>\n",
       "                        <td id=\"T_47dcab16_06c7_11eb_82d4_e30b0dfbf0f6row2_col3\" class=\"data row2 col3\" >0.45</td>\n",
       "                        <td id=\"T_47dcab16_06c7_11eb_82d4_e30b0dfbf0f6row2_col4\" class=\"data row2 col4\" >0.45</td>\n",
       "                        <td id=\"T_47dcab16_06c7_11eb_82d4_e30b0dfbf0f6row2_col5\" class=\"data row2 col5\" >0.01</td>\n",
       "                        <td id=\"T_47dcab16_06c7_11eb_82d4_e30b0dfbf0f6row2_col6\" class=\"data row2 col6\" >0.05</td>\n",
       "                        <td id=\"T_47dcab16_06c7_11eb_82d4_e30b0dfbf0f6row2_col7\" class=\"data row2 col7\" >0.06</td>\n",
       "                        <td id=\"T_47dcab16_06c7_11eb_82d4_e30b0dfbf0f6row2_col8\" class=\"data row2 col8\" >-0.00</td>\n",
       "                        <td id=\"T_47dcab16_06c7_11eb_82d4_e30b0dfbf0f6row2_col9\" class=\"data row2 col9\" >-0.01</td>\n",
       "                        <td id=\"T_47dcab16_06c7_11eb_82d4_e30b0dfbf0f6row2_col10\" class=\"data row2 col10\" >0.09</td>\n",
       "            </tr>\n",
       "            <tr>\n",
       "                        <th id=\"T_47dcab16_06c7_11eb_82d4_e30b0dfbf0f6level0_row3\" class=\"row_heading level0 row3\" >MAJFLT</th>\n",
       "                        <td id=\"T_47dcab16_06c7_11eb_82d4_e30b0dfbf0f6row3_col0\" class=\"data row3 col0\" >-0.00</td>\n",
       "                        <td id=\"T_47dcab16_06c7_11eb_82d4_e30b0dfbf0f6row3_col1\" class=\"data row3 col1\" >0.16</td>\n",
       "                        <td id=\"T_47dcab16_06c7_11eb_82d4_e30b0dfbf0f6row3_col2\" class=\"data row3 col2\" >0.45</td>\n",
       "                        <td id=\"T_47dcab16_06c7_11eb_82d4_e30b0dfbf0f6row3_col3\" class=\"data row3 col3\" >1.00</td>\n",
       "                        <td id=\"T_47dcab16_06c7_11eb_82d4_e30b0dfbf0f6row3_col4\" class=\"data row3 col4\" >1.00</td>\n",
       "                        <td id=\"T_47dcab16_06c7_11eb_82d4_e30b0dfbf0f6row3_col5\" class=\"data row3 col5\" >-0.03</td>\n",
       "                        <td id=\"T_47dcab16_06c7_11eb_82d4_e30b0dfbf0f6row3_col6\" class=\"data row3 col6\" >0.11</td>\n",
       "                        <td id=\"T_47dcab16_06c7_11eb_82d4_e30b0dfbf0f6row3_col7\" class=\"data row3 col7\" >0.13</td>\n",
       "                        <td id=\"T_47dcab16_06c7_11eb_82d4_e30b0dfbf0f6row3_col8\" class=\"data row3 col8\" >-0.02</td>\n",
       "                        <td id=\"T_47dcab16_06c7_11eb_82d4_e30b0dfbf0f6row3_col9\" class=\"data row3 col9\" >-0.02</td>\n",
       "                        <td id=\"T_47dcab16_06c7_11eb_82d4_e30b0dfbf0f6row3_col10\" class=\"data row3 col10\" >0.19</td>\n",
       "            </tr>\n",
       "            <tr>\n",
       "                        <th id=\"T_47dcab16_06c7_11eb_82d4_e30b0dfbf0f6level0_row4\" class=\"row_heading level0 row4\" >VSTEXT</th>\n",
       "                        <td id=\"T_47dcab16_06c7_11eb_82d4_e30b0dfbf0f6row4_col0\" class=\"data row4 col0\" >0.00</td>\n",
       "                        <td id=\"T_47dcab16_06c7_11eb_82d4_e30b0dfbf0f6row4_col1\" class=\"data row4 col1\" >0.16</td>\n",
       "                        <td id=\"T_47dcab16_06c7_11eb_82d4_e30b0dfbf0f6row4_col2\" class=\"data row4 col2\" >0.45</td>\n",
       "                        <td id=\"T_47dcab16_06c7_11eb_82d4_e30b0dfbf0f6row4_col3\" class=\"data row4 col3\" >1.00</td>\n",
       "                        <td id=\"T_47dcab16_06c7_11eb_82d4_e30b0dfbf0f6row4_col4\" class=\"data row4 col4\" >1.00</td>\n",
       "                        <td id=\"T_47dcab16_06c7_11eb_82d4_e30b0dfbf0f6row4_col5\" class=\"data row4 col5\" >-0.04</td>\n",
       "                        <td id=\"T_47dcab16_06c7_11eb_82d4_e30b0dfbf0f6row4_col6\" class=\"data row4 col6\" >0.11</td>\n",
       "                        <td id=\"T_47dcab16_06c7_11eb_82d4_e30b0dfbf0f6row4_col7\" class=\"data row4 col7\" >0.13</td>\n",
       "                        <td id=\"T_47dcab16_06c7_11eb_82d4_e30b0dfbf0f6row4_col8\" class=\"data row4 col8\" >-0.02</td>\n",
       "                        <td id=\"T_47dcab16_06c7_11eb_82d4_e30b0dfbf0f6row4_col9\" class=\"data row4 col9\" >-0.02</td>\n",
       "                        <td id=\"T_47dcab16_06c7_11eb_82d4_e30b0dfbf0f6row4_col10\" class=\"data row4 col10\" >0.19</td>\n",
       "            </tr>\n",
       "            <tr>\n",
       "                        <th id=\"T_47dcab16_06c7_11eb_82d4_e30b0dfbf0f6level0_row5\" class=\"row_heading level0 row5\" >VSIZE</th>\n",
       "                        <td id=\"T_47dcab16_06c7_11eb_82d4_e30b0dfbf0f6row5_col0\" class=\"data row5 col0\" >-0.09</td>\n",
       "                        <td id=\"T_47dcab16_06c7_11eb_82d4_e30b0dfbf0f6row5_col1\" class=\"data row5 col1\" >-0.14</td>\n",
       "                        <td id=\"T_47dcab16_06c7_11eb_82d4_e30b0dfbf0f6row5_col2\" class=\"data row5 col2\" >0.01</td>\n",
       "                        <td id=\"T_47dcab16_06c7_11eb_82d4_e30b0dfbf0f6row5_col3\" class=\"data row5 col3\" >-0.03</td>\n",
       "                        <td id=\"T_47dcab16_06c7_11eb_82d4_e30b0dfbf0f6row5_col4\" class=\"data row5 col4\" >-0.04</td>\n",
       "                        <td id=\"T_47dcab16_06c7_11eb_82d4_e30b0dfbf0f6row5_col5\" class=\"data row5 col5\" >1.00</td>\n",
       "                        <td id=\"T_47dcab16_06c7_11eb_82d4_e30b0dfbf0f6row5_col6\" class=\"data row5 col6\" >-0.00</td>\n",
       "                        <td id=\"T_47dcab16_06c7_11eb_82d4_e30b0dfbf0f6row5_col7\" class=\"data row5 col7\" >0.01</td>\n",
       "                        <td id=\"T_47dcab16_06c7_11eb_82d4_e30b0dfbf0f6row5_col8\" class=\"data row5 col8\" >-0.14</td>\n",
       "                        <td id=\"T_47dcab16_06c7_11eb_82d4_e30b0dfbf0f6row5_col9\" class=\"data row5 col9\" >-0.14</td>\n",
       "                        <td id=\"T_47dcab16_06c7_11eb_82d4_e30b0dfbf0f6row5_col10\" class=\"data row5 col10\" >-0.00</td>\n",
       "            </tr>\n",
       "            <tr>\n",
       "                        <th id=\"T_47dcab16_06c7_11eb_82d4_e30b0dfbf0f6level0_row6\" class=\"row_heading level0 row6\" >RSIZE</th>\n",
       "                        <td id=\"T_47dcab16_06c7_11eb_82d4_e30b0dfbf0f6row6_col0\" class=\"data row6 col0\" >-0.00</td>\n",
       "                        <td id=\"T_47dcab16_06c7_11eb_82d4_e30b0dfbf0f6row6_col1\" class=\"data row6 col1\" >0.01</td>\n",
       "                        <td id=\"T_47dcab16_06c7_11eb_82d4_e30b0dfbf0f6row6_col2\" class=\"data row6 col2\" >0.05</td>\n",
       "                        <td id=\"T_47dcab16_06c7_11eb_82d4_e30b0dfbf0f6row6_col3\" class=\"data row6 col3\" >0.11</td>\n",
       "                        <td id=\"T_47dcab16_06c7_11eb_82d4_e30b0dfbf0f6row6_col4\" class=\"data row6 col4\" >0.11</td>\n",
       "                        <td id=\"T_47dcab16_06c7_11eb_82d4_e30b0dfbf0f6row6_col5\" class=\"data row6 col5\" >-0.00</td>\n",
       "                        <td id=\"T_47dcab16_06c7_11eb_82d4_e30b0dfbf0f6row6_col6\" class=\"data row6 col6\" >1.00</td>\n",
       "                        <td id=\"T_47dcab16_06c7_11eb_82d4_e30b0dfbf0f6row6_col7\" class=\"data row6 col7\" >0.98</td>\n",
       "                        <td id=\"T_47dcab16_06c7_11eb_82d4_e30b0dfbf0f6row6_col8\" class=\"data row6 col8\" >-0.00</td>\n",
       "                        <td id=\"T_47dcab16_06c7_11eb_82d4_e30b0dfbf0f6row6_col9\" class=\"data row6 col9\" >0.00</td>\n",
       "                        <td id=\"T_47dcab16_06c7_11eb_82d4_e30b0dfbf0f6row6_col10\" class=\"data row6 col10\" >0.02</td>\n",
       "            </tr>\n",
       "            <tr>\n",
       "                        <th id=\"T_47dcab16_06c7_11eb_82d4_e30b0dfbf0f6level0_row7\" class=\"row_heading level0 row7\" >VGROW</th>\n",
       "                        <td id=\"T_47dcab16_06c7_11eb_82d4_e30b0dfbf0f6row7_col0\" class=\"data row7 col0\" >0.00</td>\n",
       "                        <td id=\"T_47dcab16_06c7_11eb_82d4_e30b0dfbf0f6row7_col1\" class=\"data row7 col1\" >0.01</td>\n",
       "                        <td id=\"T_47dcab16_06c7_11eb_82d4_e30b0dfbf0f6row7_col2\" class=\"data row7 col2\" >0.06</td>\n",
       "                        <td id=\"T_47dcab16_06c7_11eb_82d4_e30b0dfbf0f6row7_col3\" class=\"data row7 col3\" >0.13</td>\n",
       "                        <td id=\"T_47dcab16_06c7_11eb_82d4_e30b0dfbf0f6row7_col4\" class=\"data row7 col4\" >0.13</td>\n",
       "                        <td id=\"T_47dcab16_06c7_11eb_82d4_e30b0dfbf0f6row7_col5\" class=\"data row7 col5\" >0.01</td>\n",
       "                        <td id=\"T_47dcab16_06c7_11eb_82d4_e30b0dfbf0f6row7_col6\" class=\"data row7 col6\" >0.98</td>\n",
       "                        <td id=\"T_47dcab16_06c7_11eb_82d4_e30b0dfbf0f6row7_col7\" class=\"data row7 col7\" >1.00</td>\n",
       "                        <td id=\"T_47dcab16_06c7_11eb_82d4_e30b0dfbf0f6row7_col8\" class=\"data row7 col8\" >-0.00</td>\n",
       "                        <td id=\"T_47dcab16_06c7_11eb_82d4_e30b0dfbf0f6row7_col9\" class=\"data row7 col9\" >0.00</td>\n",
       "                        <td id=\"T_47dcab16_06c7_11eb_82d4_e30b0dfbf0f6row7_col10\" class=\"data row7 col10\" >0.03</td>\n",
       "            </tr>\n",
       "            <tr>\n",
       "                        <th id=\"T_47dcab16_06c7_11eb_82d4_e30b0dfbf0f6level0_row8\" class=\"row_heading level0 row8\" >RGROW</th>\n",
       "                        <td id=\"T_47dcab16_06c7_11eb_82d4_e30b0dfbf0f6row8_col0\" class=\"data row8 col0\" >0.32</td>\n",
       "                        <td id=\"T_47dcab16_06c7_11eb_82d4_e30b0dfbf0f6row8_col1\" class=\"data row8 col1\" >-0.18</td>\n",
       "                        <td id=\"T_47dcab16_06c7_11eb_82d4_e30b0dfbf0f6row8_col2\" class=\"data row8 col2\" >-0.00</td>\n",
       "                        <td id=\"T_47dcab16_06c7_11eb_82d4_e30b0dfbf0f6row8_col3\" class=\"data row8 col3\" >-0.02</td>\n",
       "                        <td id=\"T_47dcab16_06c7_11eb_82d4_e30b0dfbf0f6row8_col4\" class=\"data row8 col4\" >-0.02</td>\n",
       "                        <td id=\"T_47dcab16_06c7_11eb_82d4_e30b0dfbf0f6row8_col5\" class=\"data row8 col5\" >-0.14</td>\n",
       "                        <td id=\"T_47dcab16_06c7_11eb_82d4_e30b0dfbf0f6row8_col6\" class=\"data row8 col6\" >-0.00</td>\n",
       "                        <td id=\"T_47dcab16_06c7_11eb_82d4_e30b0dfbf0f6row8_col7\" class=\"data row8 col7\" >-0.00</td>\n",
       "                        <td id=\"T_47dcab16_06c7_11eb_82d4_e30b0dfbf0f6row8_col8\" class=\"data row8 col8\" >1.00</td>\n",
       "                        <td id=\"T_47dcab16_06c7_11eb_82d4_e30b0dfbf0f6row8_col9\" class=\"data row8 col9\" >-0.02</td>\n",
       "                        <td id=\"T_47dcab16_06c7_11eb_82d4_e30b0dfbf0f6row8_col10\" class=\"data row8 col10\" >-0.02</td>\n",
       "            </tr>\n",
       "            <tr>\n",
       "                        <th id=\"T_47dcab16_06c7_11eb_82d4_e30b0dfbf0f6level0_row9\" class=\"row_heading level0 row9\" >MEM</th>\n",
       "                        <td id=\"T_47dcab16_06c7_11eb_82d4_e30b0dfbf0f6row9_col0\" class=\"data row9 col0\" >0.03</td>\n",
       "                        <td id=\"T_47dcab16_06c7_11eb_82d4_e30b0dfbf0f6row9_col1\" class=\"data row9 col1\" >-0.12</td>\n",
       "                        <td id=\"T_47dcab16_06c7_11eb_82d4_e30b0dfbf0f6row9_col2\" class=\"data row9 col2\" >-0.01</td>\n",
       "                        <td id=\"T_47dcab16_06c7_11eb_82d4_e30b0dfbf0f6row9_col3\" class=\"data row9 col3\" >-0.02</td>\n",
       "                        <td id=\"T_47dcab16_06c7_11eb_82d4_e30b0dfbf0f6row9_col4\" class=\"data row9 col4\" >-0.02</td>\n",
       "                        <td id=\"T_47dcab16_06c7_11eb_82d4_e30b0dfbf0f6row9_col5\" class=\"data row9 col5\" >-0.14</td>\n",
       "                        <td id=\"T_47dcab16_06c7_11eb_82d4_e30b0dfbf0f6row9_col6\" class=\"data row9 col6\" >0.00</td>\n",
       "                        <td id=\"T_47dcab16_06c7_11eb_82d4_e30b0dfbf0f6row9_col7\" class=\"data row9 col7\" >0.00</td>\n",
       "                        <td id=\"T_47dcab16_06c7_11eb_82d4_e30b0dfbf0f6row9_col8\" class=\"data row9 col8\" >-0.02</td>\n",
       "                        <td id=\"T_47dcab16_06c7_11eb_82d4_e30b0dfbf0f6row9_col9\" class=\"data row9 col9\" >1.00</td>\n",
       "                        <td id=\"T_47dcab16_06c7_11eb_82d4_e30b0dfbf0f6row9_col10\" class=\"data row9 col10\" >0.01</td>\n",
       "            </tr>\n",
       "            <tr>\n",
       "                        <th id=\"T_47dcab16_06c7_11eb_82d4_e30b0dfbf0f6level0_row10\" class=\"row_heading level0 row10\" >attack</th>\n",
       "                        <td id=\"T_47dcab16_06c7_11eb_82d4_e30b0dfbf0f6row10_col0\" class=\"data row10 col0\" >0.04</td>\n",
       "                        <td id=\"T_47dcab16_06c7_11eb_82d4_e30b0dfbf0f6row10_col1\" class=\"data row10 col1\" >-0.10</td>\n",
       "                        <td id=\"T_47dcab16_06c7_11eb_82d4_e30b0dfbf0f6row10_col2\" class=\"data row10 col2\" >0.09</td>\n",
       "                        <td id=\"T_47dcab16_06c7_11eb_82d4_e30b0dfbf0f6row10_col3\" class=\"data row10 col3\" >0.19</td>\n",
       "                        <td id=\"T_47dcab16_06c7_11eb_82d4_e30b0dfbf0f6row10_col4\" class=\"data row10 col4\" >0.19</td>\n",
       "                        <td id=\"T_47dcab16_06c7_11eb_82d4_e30b0dfbf0f6row10_col5\" class=\"data row10 col5\" >-0.00</td>\n",
       "                        <td id=\"T_47dcab16_06c7_11eb_82d4_e30b0dfbf0f6row10_col6\" class=\"data row10 col6\" >0.02</td>\n",
       "                        <td id=\"T_47dcab16_06c7_11eb_82d4_e30b0dfbf0f6row10_col7\" class=\"data row10 col7\" >0.03</td>\n",
       "                        <td id=\"T_47dcab16_06c7_11eb_82d4_e30b0dfbf0f6row10_col8\" class=\"data row10 col8\" >-0.02</td>\n",
       "                        <td id=\"T_47dcab16_06c7_11eb_82d4_e30b0dfbf0f6row10_col9\" class=\"data row10 col9\" >0.01</td>\n",
       "                        <td id=\"T_47dcab16_06c7_11eb_82d4_e30b0dfbf0f6row10_col10\" class=\"data row10 col10\" >1.00</td>\n",
       "            </tr>\n",
       "    </tbody></table>"
      ],
      "text/plain": [
       "<pandas.io.formats.style.Styler at 0x7f632cfd8c70>"
      ]
     },
     "execution_count": 30,
     "metadata": {},
     "output_type": "execute_result"
    }
   ],
   "source": [
    "import pandas as pd\n",
    "import numpy as np\n",
    "from pyspark.sql.functions import *\n",
    "\n",
    "memdfplot = newMemoryDf.orderBy(rand()).limit(200000)\n",
    "memdfplot1 = memdfplot.toPandas()\n",
    "corr = memdfplot1.corr()\n",
    "corr.style.background_gradient(cmap='Greens').set_precision(2)"
   ]
  },
  {
   "cell_type": "code",
   "execution_count": 31,
   "metadata": {},
   "outputs": [
    {
     "data": {
      "image/png": "[encoded data removed]",
      "text/plain": [
       "<Figure size 432x288 with 1 Axes>"
      ]
     },
     "metadata": {
      "needs_background": "light"
     },
     "output_type": "display_data"
    }
   ],
   "source": [
    "import matplotlib.pyplot as plt\n",
    "import pyspark.sql.functions as F\n",
    "memplot2 = newMemoryDf.filter(newMemoryDf.attack == 1).groupby('type').agg(F.count('attack').alias('Total Attack Count')).toPandas()\n",
    "     \n",
    "\n",
    "memplot2.plot.bar(x = 'type') #Plotting bar graph\n",
    "plt.xlabel('Type of Attack') #defining x label\n",
    "plt.ylabel('Total Attacks Count') #defining y label\n",
    "plt.show()"
   ]
  },
  {
   "cell_type": "markdown",
   "metadata": {},
   "source": [
    "In the above two plots we have plotted for the memory data set there is a correlation matrix and a bar chart that represent the following:\n",
    "\n",
    "- In Bar plot We have plotted a bar chart that descibes the different type of attack types in the memory data and we can see in the plot that injection and dos has the highest count and mitm has the lowest\n",
    "\n",
    "- In Correlation Plot: The correlation plot shows the relationship between each feature of the memory data which has integer data type value close to 1 represent highly correlated variables and variable near to -1 represnt less correlated variable "
   ]
  },
  {
   "cell_type": "code",
   "execution_count": 32,
   "metadata": {},
   "outputs": [
    {
     "name": "stderr",
     "output_type": "stream",
     "text": [
      "/home/student/.local/lib/python3.8/site-packages/pandas/io/formats/style.py:1089: RuntimeWarning: All-NaN slice encountered\n",
      "  smin = np.nanmin(s.to_numpy()) if vmin is None else vmin\n",
      "/home/student/.local/lib/python3.8/site-packages/pandas/io/formats/style.py:1090: RuntimeWarning: All-NaN slice encountered\n",
      "  smax = np.nanmax(s.to_numpy()) if vmax is None else vmax\n"
     ]
    },
    {
     "data": {
      "text/html": [
       "<style  type=\"text/css\" >\n",
       "    #T_4ff87c62_06c7_11eb_82d4_e30b0dfbf0f6row0_col0 {\n",
       "            background-color:  #fde725;\n",
       "            color:  #000000;\n",
       "        }    #T_4ff87c62_06c7_11eb_82d4_e30b0dfbf0f6row0_col1 {\n",
       "            background-color:  #414487;\n",
       "            color:  #f1f1f1;\n",
       "        }    #T_4ff87c62_06c7_11eb_82d4_e30b0dfbf0f6row0_col2 {\n",
       "            background-color:  #460b5e;\n",
       "            color:  #f1f1f1;\n",
       "        }    #T_4ff87c62_06c7_11eb_82d4_e30b0dfbf0f6row0_col3 {\n",
       "            background-color:  #424086;\n",
       "            color:  #f1f1f1;\n",
       "        }    #T_4ff87c62_06c7_11eb_82d4_e30b0dfbf0f6row0_col4 {\n",
       "            background-color:  #440154;\n",
       "            color:  #f1f1f1;\n",
       "        }    #T_4ff87c62_06c7_11eb_82d4_e30b0dfbf0f6row0_col5 {\n",
       "            background-color:  #443a83;\n",
       "            color:  #f1f1f1;\n",
       "        }    #T_4ff87c62_06c7_11eb_82d4_e30b0dfbf0f6row0_col6 {\n",
       "            background-color:  #375a8c;\n",
       "            color:  #f1f1f1;\n",
       "        }    #T_4ff87c62_06c7_11eb_82d4_e30b0dfbf0f6row0_col7 {\n",
       "            background-color:  #000000;\n",
       "            color:  #f1f1f1;\n",
       "        }    #T_4ff87c62_06c7_11eb_82d4_e30b0dfbf0f6row0_col8 {\n",
       "            background-color:  #3d4e8a;\n",
       "            color:  #f1f1f1;\n",
       "        }    #T_4ff87c62_06c7_11eb_82d4_e30b0dfbf0f6row0_col9 {\n",
       "            background-color:  #482071;\n",
       "            color:  #f1f1f1;\n",
       "        }    #T_4ff87c62_06c7_11eb_82d4_e30b0dfbf0f6row0_col10 {\n",
       "            background-color:  #440154;\n",
       "            color:  #f1f1f1;\n",
       "        }    #T_4ff87c62_06c7_11eb_82d4_e30b0dfbf0f6row0_col11 {\n",
       "            background-color:  #482071;\n",
       "            color:  #f1f1f1;\n",
       "        }    #T_4ff87c62_06c7_11eb_82d4_e30b0dfbf0f6row1_col0 {\n",
       "            background-color:  #482878;\n",
       "            color:  #f1f1f1;\n",
       "        }    #T_4ff87c62_06c7_11eb_82d4_e30b0dfbf0f6row1_col1 {\n",
       "            background-color:  #fde725;\n",
       "            color:  #000000;\n",
       "        }    #T_4ff87c62_06c7_11eb_82d4_e30b0dfbf0f6row1_col2 {\n",
       "            background-color:  #440154;\n",
       "            color:  #f1f1f1;\n",
       "        }    #T_4ff87c62_06c7_11eb_82d4_e30b0dfbf0f6row1_col3 {\n",
       "            background-color:  #46085c;\n",
       "            color:  #f1f1f1;\n",
       "        }    #T_4ff87c62_06c7_11eb_82d4_e30b0dfbf0f6row1_col4 {\n",
       "            background-color:  #440154;\n",
       "            color:  #f1f1f1;\n",
       "        }    #T_4ff87c62_06c7_11eb_82d4_e30b0dfbf0f6row1_col5 {\n",
       "            background-color:  #482576;\n",
       "            color:  #f1f1f1;\n",
       "        }    #T_4ff87c62_06c7_11eb_82d4_e30b0dfbf0f6row1_col6 {\n",
       "            background-color:  #482475;\n",
       "            color:  #f1f1f1;\n",
       "        }    #T_4ff87c62_06c7_11eb_82d4_e30b0dfbf0f6row1_col7 {\n",
       "            background-color:  #000000;\n",
       "            color:  #f1f1f1;\n",
       "        }    #T_4ff87c62_06c7_11eb_82d4_e30b0dfbf0f6row1_col8 {\n",
       "            background-color:  #46337f;\n",
       "            color:  #f1f1f1;\n",
       "        }    #T_4ff87c62_06c7_11eb_82d4_e30b0dfbf0f6row1_col9 {\n",
       "            background-color:  #482576;\n",
       "            color:  #f1f1f1;\n",
       "        }    #T_4ff87c62_06c7_11eb_82d4_e30b0dfbf0f6row1_col10 {\n",
       "            background-color:  #46075a;\n",
       "            color:  #f1f1f1;\n",
       "        }    #T_4ff87c62_06c7_11eb_82d4_e30b0dfbf0f6row1_col11 {\n",
       "            background-color:  #450559;\n",
       "            color:  #f1f1f1;\n",
       "        }    #T_4ff87c62_06c7_11eb_82d4_e30b0dfbf0f6row2_col0 {\n",
       "            background-color:  #460a5d;\n",
       "            color:  #f1f1f1;\n",
       "        }    #T_4ff87c62_06c7_11eb_82d4_e30b0dfbf0f6row2_col1 {\n",
       "            background-color:  #482475;\n",
       "            color:  #f1f1f1;\n",
       "        }    #T_4ff87c62_06c7_11eb_82d4_e30b0dfbf0f6row2_col2 {\n",
       "            background-color:  #fde725;\n",
       "            color:  #000000;\n",
       "        }    #T_4ff87c62_06c7_11eb_82d4_e30b0dfbf0f6row2_col3 {\n",
       "            background-color:  #433e85;\n",
       "            color:  #f1f1f1;\n",
       "        }    #T_4ff87c62_06c7_11eb_82d4_e30b0dfbf0f6row2_col4 {\n",
       "            background-color:  #440154;\n",
       "            color:  #f1f1f1;\n",
       "        }    #T_4ff87c62_06c7_11eb_82d4_e30b0dfbf0f6row2_col5 {\n",
       "            background-color:  #2a778e;\n",
       "            color:  #000000;\n",
       "        }    #T_4ff87c62_06c7_11eb_82d4_e30b0dfbf0f6row2_col6 {\n",
       "            background-color:  #433e85;\n",
       "            color:  #f1f1f1;\n",
       "        }    #T_4ff87c62_06c7_11eb_82d4_e30b0dfbf0f6row2_col7 {\n",
       "            background-color:  #000000;\n",
       "            color:  #f1f1f1;\n",
       "        }    #T_4ff87c62_06c7_11eb_82d4_e30b0dfbf0f6row2_col8 {\n",
       "            background-color:  #470e61;\n",
       "            color:  #f1f1f1;\n",
       "        }    #T_4ff87c62_06c7_11eb_82d4_e30b0dfbf0f6row2_col9 {\n",
       "            background-color:  #482071;\n",
       "            color:  #f1f1f1;\n",
       "        }    #T_4ff87c62_06c7_11eb_82d4_e30b0dfbf0f6row2_col10 {\n",
       "            background-color:  #1e9b8a;\n",
       "            color:  #000000;\n",
       "        }    #T_4ff87c62_06c7_11eb_82d4_e30b0dfbf0f6row2_col11 {\n",
       "            background-color:  #481668;\n",
       "            color:  #f1f1f1;\n",
       "        }    #T_4ff87c62_06c7_11eb_82d4_e30b0dfbf0f6row3_col0 {\n",
       "            background-color:  #481b6d;\n",
       "            color:  #f1f1f1;\n",
       "        }    #T_4ff87c62_06c7_11eb_82d4_e30b0dfbf0f6row3_col1 {\n",
       "            background-color:  #440154;\n",
       "            color:  #f1f1f1;\n",
       "        }    #T_4ff87c62_06c7_11eb_82d4_e30b0dfbf0f6row3_col2 {\n",
       "            background-color:  #481b6d;\n",
       "            color:  #f1f1f1;\n",
       "        }    #T_4ff87c62_06c7_11eb_82d4_e30b0dfbf0f6row3_col3 {\n",
       "            background-color:  #fde725;\n",
       "            color:  #000000;\n",
       "        }    #T_4ff87c62_06c7_11eb_82d4_e30b0dfbf0f6row3_col4 {\n",
       "            background-color:  #440154;\n",
       "            color:  #f1f1f1;\n",
       "        }    #T_4ff87c62_06c7_11eb_82d4_e30b0dfbf0f6row3_col5 {\n",
       "            background-color:  #471365;\n",
       "            color:  #f1f1f1;\n",
       "        }    #T_4ff87c62_06c7_11eb_82d4_e30b0dfbf0f6row3_col6 {\n",
       "            background-color:  #2f6b8e;\n",
       "            color:  #f1f1f1;\n",
       "        }    #T_4ff87c62_06c7_11eb_82d4_e30b0dfbf0f6row3_col7 {\n",
       "            background-color:  #000000;\n",
       "            color:  #f1f1f1;\n",
       "        }    #T_4ff87c62_06c7_11eb_82d4_e30b0dfbf0f6row3_col8 {\n",
       "            background-color:  #46307e;\n",
       "            color:  #f1f1f1;\n",
       "        }    #T_4ff87c62_06c7_11eb_82d4_e30b0dfbf0f6row3_col9 {\n",
       "            background-color:  #481d6f;\n",
       "            color:  #f1f1f1;\n",
       "        }    #T_4ff87c62_06c7_11eb_82d4_e30b0dfbf0f6row3_col10 {\n",
       "            background-color:  #414287;\n",
       "            color:  #f1f1f1;\n",
       "        }    #T_4ff87c62_06c7_11eb_82d4_e30b0dfbf0f6row3_col11 {\n",
       "            background-color:  #482979;\n",
       "            color:  #f1f1f1;\n",
       "        }    #T_4ff87c62_06c7_11eb_82d4_e30b0dfbf0f6row4_col0 {\n",
       "            background-color:  #481467;\n",
       "            color:  #f1f1f1;\n",
       "        }    #T_4ff87c62_06c7_11eb_82d4_e30b0dfbf0f6row4_col1 {\n",
       "            background-color:  #463480;\n",
       "            color:  #f1f1f1;\n",
       "        }    #T_4ff87c62_06c7_11eb_82d4_e30b0dfbf0f6row4_col2 {\n",
       "            background-color:  #481769;\n",
       "            color:  #f1f1f1;\n",
       "        }    #T_4ff87c62_06c7_11eb_82d4_e30b0dfbf0f6row4_col3 {\n",
       "            background-color:  #443a83;\n",
       "            color:  #f1f1f1;\n",
       "        }    #T_4ff87c62_06c7_11eb_82d4_e30b0dfbf0f6row4_col4 {\n",
       "            background-color:  #fde725;\n",
       "            color:  #000000;\n",
       "        }    #T_4ff87c62_06c7_11eb_82d4_e30b0dfbf0f6row4_col5 {\n",
       "            background-color:  #404688;\n",
       "            color:  #f1f1f1;\n",
       "        }    #T_4ff87c62_06c7_11eb_82d4_e30b0dfbf0f6row4_col6 {\n",
       "            background-color:  #3f4788;\n",
       "            color:  #f1f1f1;\n",
       "        }    #T_4ff87c62_06c7_11eb_82d4_e30b0dfbf0f6row4_col7 {\n",
       "            background-color:  #000000;\n",
       "            color:  #f1f1f1;\n",
       "        }    #T_4ff87c62_06c7_11eb_82d4_e30b0dfbf0f6row4_col8 {\n",
       "            background-color:  #481c6e;\n",
       "            color:  #f1f1f1;\n",
       "        }    #T_4ff87c62_06c7_11eb_82d4_e30b0dfbf0f6row4_col9 {\n",
       "            background-color:  #482173;\n",
       "            color:  #f1f1f1;\n",
       "        }    #T_4ff87c62_06c7_11eb_82d4_e30b0dfbf0f6row4_col10 {\n",
       "            background-color:  #48186a;\n",
       "            color:  #f1f1f1;\n",
       "        }    #T_4ff87c62_06c7_11eb_82d4_e30b0dfbf0f6row4_col11 {\n",
       "            background-color:  #48186a;\n",
       "            color:  #f1f1f1;\n",
       "        }    #T_4ff87c62_06c7_11eb_82d4_e30b0dfbf0f6row5_col0 {\n",
       "            background-color:  #440256;\n",
       "            color:  #f1f1f1;\n",
       "        }    #T_4ff87c62_06c7_11eb_82d4_e30b0dfbf0f6row5_col1 {\n",
       "            background-color:  #470e61;\n",
       "            color:  #f1f1f1;\n",
       "        }    #T_4ff87c62_06c7_11eb_82d4_e30b0dfbf0f6row5_col2 {\n",
       "            background-color:  #375a8c;\n",
       "            color:  #f1f1f1;\n",
       "        }    #T_4ff87c62_06c7_11eb_82d4_e30b0dfbf0f6row5_col3 {\n",
       "            background-color:  #440154;\n",
       "            color:  #f1f1f1;\n",
       "        }    #T_4ff87c62_06c7_11eb_82d4_e30b0dfbf0f6row5_col4 {\n",
       "            background-color:  #440154;\n",
       "            color:  #f1f1f1;\n",
       "        }    #T_4ff87c62_06c7_11eb_82d4_e30b0dfbf0f6row5_col5 {\n",
       "            background-color:  #fde725;\n",
       "            color:  #000000;\n",
       "        }    #T_4ff87c62_06c7_11eb_82d4_e30b0dfbf0f6row5_col6 {\n",
       "            background-color:  #440154;\n",
       "            color:  #f1f1f1;\n",
       "        }    #T_4ff87c62_06c7_11eb_82d4_e30b0dfbf0f6row5_col7 {\n",
       "            background-color:  #000000;\n",
       "            color:  #f1f1f1;\n",
       "        }    #T_4ff87c62_06c7_11eb_82d4_e30b0dfbf0f6row5_col8 {\n",
       "            background-color:  #440154;\n",
       "            color:  #f1f1f1;\n",
       "        }    #T_4ff87c62_06c7_11eb_82d4_e30b0dfbf0f6row5_col9 {\n",
       "            background-color:  #481d6f;\n",
       "            color:  #f1f1f1;\n",
       "        }    #T_4ff87c62_06c7_11eb_82d4_e30b0dfbf0f6row5_col10 {\n",
       "            background-color:  #440154;\n",
       "            color:  #f1f1f1;\n",
       "        }    #T_4ff87c62_06c7_11eb_82d4_e30b0dfbf0f6row5_col11 {\n",
       "            background-color:  #440154;\n",
       "            color:  #f1f1f1;\n",
       "        }    #T_4ff87c62_06c7_11eb_82d4_e30b0dfbf0f6row6_col0 {\n",
       "            background-color:  #46307e;\n",
       "            color:  #f1f1f1;\n",
       "        }    #T_4ff87c62_06c7_11eb_82d4_e30b0dfbf0f6row6_col1 {\n",
       "            background-color:  #470d60;\n",
       "            color:  #f1f1f1;\n",
       "        }    #T_4ff87c62_06c7_11eb_82d4_e30b0dfbf0f6row6_col2 {\n",
       "            background-color:  #46085c;\n",
       "            color:  #f1f1f1;\n",
       "        }    #T_4ff87c62_06c7_11eb_82d4_e30b0dfbf0f6row6_col3 {\n",
       "            background-color:  #33638d;\n",
       "            color:  #f1f1f1;\n",
       "        }    #T_4ff87c62_06c7_11eb_82d4_e30b0dfbf0f6row6_col4 {\n",
       "            background-color:  #440256;\n",
       "            color:  #f1f1f1;\n",
       "        }    #T_4ff87c62_06c7_11eb_82d4_e30b0dfbf0f6row6_col5 {\n",
       "            background-color:  #440154;\n",
       "            color:  #f1f1f1;\n",
       "        }    #T_4ff87c62_06c7_11eb_82d4_e30b0dfbf0f6row6_col6 {\n",
       "            background-color:  #fde725;\n",
       "            color:  #000000;\n",
       "        }    #T_4ff87c62_06c7_11eb_82d4_e30b0dfbf0f6row6_col7 {\n",
       "            background-color:  #000000;\n",
       "            color:  #f1f1f1;\n",
       "        }    #T_4ff87c62_06c7_11eb_82d4_e30b0dfbf0f6row6_col8 {\n",
       "            background-color:  #32648e;\n",
       "            color:  #f1f1f1;\n",
       "        }    #T_4ff87c62_06c7_11eb_82d4_e30b0dfbf0f6row6_col9 {\n",
       "            background-color:  #440154;\n",
       "            color:  #f1f1f1;\n",
       "        }    #T_4ff87c62_06c7_11eb_82d4_e30b0dfbf0f6row6_col10 {\n",
       "            background-color:  #482576;\n",
       "            color:  #f1f1f1;\n",
       "        }    #T_4ff87c62_06c7_11eb_82d4_e30b0dfbf0f6row6_col11 {\n",
       "            background-color:  #481a6c;\n",
       "            color:  #f1f1f1;\n",
       "        }    #T_4ff87c62_06c7_11eb_82d4_e30b0dfbf0f6row7_col0 {\n",
       "            background-color:  #000000;\n",
       "            color:  #f1f1f1;\n",
       "        }    #T_4ff87c62_06c7_11eb_82d4_e30b0dfbf0f6row7_col1 {\n",
       "            background-color:  #000000;\n",
       "            color:  #f1f1f1;\n",
       "        }    #T_4ff87c62_06c7_11eb_82d4_e30b0dfbf0f6row7_col2 {\n",
       "            background-color:  #000000;\n",
       "            color:  #f1f1f1;\n",
       "        }    #T_4ff87c62_06c7_11eb_82d4_e30b0dfbf0f6row7_col3 {\n",
       "            background-color:  #000000;\n",
       "            color:  #f1f1f1;\n",
       "        }    #T_4ff87c62_06c7_11eb_82d4_e30b0dfbf0f6row7_col4 {\n",
       "            background-color:  #000000;\n",
       "            color:  #f1f1f1;\n",
       "        }    #T_4ff87c62_06c7_11eb_82d4_e30b0dfbf0f6row7_col5 {\n",
       "            background-color:  #000000;\n",
       "            color:  #f1f1f1;\n",
       "        }    #T_4ff87c62_06c7_11eb_82d4_e30b0dfbf0f6row7_col6 {\n",
       "            background-color:  #000000;\n",
       "            color:  #f1f1f1;\n",
       "        }    #T_4ff87c62_06c7_11eb_82d4_e30b0dfbf0f6row7_col7 {\n",
       "            background-color:  #000000;\n",
       "            color:  #f1f1f1;\n",
       "        }    #T_4ff87c62_06c7_11eb_82d4_e30b0dfbf0f6row7_col8 {\n",
       "            background-color:  #000000;\n",
       "            color:  #f1f1f1;\n",
       "        }    #T_4ff87c62_06c7_11eb_82d4_e30b0dfbf0f6row7_col9 {\n",
       "            background-color:  #000000;\n",
       "            color:  #f1f1f1;\n",
       "        }    #T_4ff87c62_06c7_11eb_82d4_e30b0dfbf0f6row7_col10 {\n",
       "            background-color:  #000000;\n",
       "            color:  #f1f1f1;\n",
       "        }    #T_4ff87c62_06c7_11eb_82d4_e30b0dfbf0f6row7_col11 {\n",
       "            background-color:  #000000;\n",
       "            color:  #f1f1f1;\n",
       "        }    #T_4ff87c62_06c7_11eb_82d4_e30b0dfbf0f6row8_col0 {\n",
       "            background-color:  #3e4989;\n",
       "            color:  #f1f1f1;\n",
       "        }    #T_4ff87c62_06c7_11eb_82d4_e30b0dfbf0f6row8_col1 {\n",
       "            background-color:  #3f4889;\n",
       "            color:  #f1f1f1;\n",
       "        }    #T_4ff87c62_06c7_11eb_82d4_e30b0dfbf0f6row8_col2 {\n",
       "            background-color:  #46085c;\n",
       "            color:  #f1f1f1;\n",
       "        }    #T_4ff87c62_06c7_11eb_82d4_e30b0dfbf0f6row8_col3 {\n",
       "            background-color:  #3e4c8a;\n",
       "            color:  #f1f1f1;\n",
       "        }    #T_4ff87c62_06c7_11eb_82d4_e30b0dfbf0f6row8_col4 {\n",
       "            background-color:  #440256;\n",
       "            color:  #f1f1f1;\n",
       "        }    #T_4ff87c62_06c7_11eb_82d4_e30b0dfbf0f6row8_col5 {\n",
       "            background-color:  #46337f;\n",
       "            color:  #f1f1f1;\n",
       "        }    #T_4ff87c62_06c7_11eb_82d4_e30b0dfbf0f6row8_col6 {\n",
       "            background-color:  #287c8e;\n",
       "            color:  #000000;\n",
       "        }    #T_4ff87c62_06c7_11eb_82d4_e30b0dfbf0f6row8_col7 {\n",
       "            background-color:  #000000;\n",
       "            color:  #f1f1f1;\n",
       "        }    #T_4ff87c62_06c7_11eb_82d4_e30b0dfbf0f6row8_col8 {\n",
       "            background-color:  #fde725;\n",
       "            color:  #000000;\n",
       "        }    #T_4ff87c62_06c7_11eb_82d4_e30b0dfbf0f6row8_col9 {\n",
       "            background-color:  #481a6c;\n",
       "            color:  #f1f1f1;\n",
       "        }    #T_4ff87c62_06c7_11eb_82d4_e30b0dfbf0f6row8_col10 {\n",
       "            background-color:  #450457;\n",
       "            color:  #f1f1f1;\n",
       "        }    #T_4ff87c62_06c7_11eb_82d4_e30b0dfbf0f6row8_col11 {\n",
       "            background-color:  #481a6c;\n",
       "            color:  #f1f1f1;\n",
       "        }    #T_4ff87c62_06c7_11eb_82d4_e30b0dfbf0f6row9_col0 {\n",
       "            background-color:  #471365;\n",
       "            color:  #f1f1f1;\n",
       "        }    #T_4ff87c62_06c7_11eb_82d4_e30b0dfbf0f6row9_col1 {\n",
       "            background-color:  #453882;\n",
       "            color:  #f1f1f1;\n",
       "        }    #T_4ff87c62_06c7_11eb_82d4_e30b0dfbf0f6row9_col2 {\n",
       "            background-color:  #481668;\n",
       "            color:  #f1f1f1;\n",
       "        }    #T_4ff87c62_06c7_11eb_82d4_e30b0dfbf0f6row9_col3 {\n",
       "            background-color:  #453882;\n",
       "            color:  #f1f1f1;\n",
       "        }    #T_4ff87c62_06c7_11eb_82d4_e30b0dfbf0f6row9_col4 {\n",
       "            background-color:  #440256;\n",
       "            color:  #f1f1f1;\n",
       "        }    #T_4ff87c62_06c7_11eb_82d4_e30b0dfbf0f6row9_col5 {\n",
       "            background-color:  #414487;\n",
       "            color:  #f1f1f1;\n",
       "        }    #T_4ff87c62_06c7_11eb_82d4_e30b0dfbf0f6row9_col6 {\n",
       "            background-color:  #472e7c;\n",
       "            color:  #f1f1f1;\n",
       "        }    #T_4ff87c62_06c7_11eb_82d4_e30b0dfbf0f6row9_col7 {\n",
       "            background-color:  #000000;\n",
       "            color:  #f1f1f1;\n",
       "        }    #T_4ff87c62_06c7_11eb_82d4_e30b0dfbf0f6row9_col8 {\n",
       "            background-color:  #481467;\n",
       "            color:  #f1f1f1;\n",
       "        }    #T_4ff87c62_06c7_11eb_82d4_e30b0dfbf0f6row9_col9 {\n",
       "            background-color:  #fde725;\n",
       "            color:  #000000;\n",
       "        }    #T_4ff87c62_06c7_11eb_82d4_e30b0dfbf0f6row9_col10 {\n",
       "            background-color:  #481467;\n",
       "            color:  #f1f1f1;\n",
       "        }    #T_4ff87c62_06c7_11eb_82d4_e30b0dfbf0f6row9_col11 {\n",
       "            background-color:  #48186a;\n",
       "            color:  #f1f1f1;\n",
       "        }    #T_4ff87c62_06c7_11eb_82d4_e30b0dfbf0f6row10_col0 {\n",
       "            background-color:  #440154;\n",
       "            color:  #f1f1f1;\n",
       "        }    #T_4ff87c62_06c7_11eb_82d4_e30b0dfbf0f6row10_col1 {\n",
       "            background-color:  #482979;\n",
       "            color:  #f1f1f1;\n",
       "        }    #T_4ff87c62_06c7_11eb_82d4_e30b0dfbf0f6row10_col2 {\n",
       "            background-color:  #1e9c89;\n",
       "            color:  #000000;\n",
       "        }    #T_4ff87c62_06c7_11eb_82d4_e30b0dfbf0f6row10_col3 {\n",
       "            background-color:  #355e8d;\n",
       "            color:  #f1f1f1;\n",
       "        }    #T_4ff87c62_06c7_11eb_82d4_e30b0dfbf0f6row10_col4 {\n",
       "            background-color:  #450559;\n",
       "            color:  #f1f1f1;\n",
       "        }    #T_4ff87c62_06c7_11eb_82d4_e30b0dfbf0f6row10_col5 {\n",
       "            background-color:  #443983;\n",
       "            color:  #f1f1f1;\n",
       "        }    #T_4ff87c62_06c7_11eb_82d4_e30b0dfbf0f6row10_col6 {\n",
       "            background-color:  #3b528b;\n",
       "            color:  #f1f1f1;\n",
       "        }    #T_4ff87c62_06c7_11eb_82d4_e30b0dfbf0f6row10_col7 {\n",
       "            background-color:  #000000;\n",
       "            color:  #f1f1f1;\n",
       "        }    #T_4ff87c62_06c7_11eb_82d4_e30b0dfbf0f6row10_col8 {\n",
       "            background-color:  #470d60;\n",
       "            color:  #f1f1f1;\n",
       "        }    #T_4ff87c62_06c7_11eb_82d4_e30b0dfbf0f6row10_col9 {\n",
       "            background-color:  #482071;\n",
       "            color:  #f1f1f1;\n",
       "        }    #T_4ff87c62_06c7_11eb_82d4_e30b0dfbf0f6row10_col10 {\n",
       "            background-color:  #fde725;\n",
       "            color:  #000000;\n",
       "        }    #T_4ff87c62_06c7_11eb_82d4_e30b0dfbf0f6row10_col11 {\n",
       "            background-color:  #470e61;\n",
       "            color:  #f1f1f1;\n",
       "        }    #T_4ff87c62_06c7_11eb_82d4_e30b0dfbf0f6row11_col0 {\n",
       "            background-color:  #481c6e;\n",
       "            color:  #f1f1f1;\n",
       "        }    #T_4ff87c62_06c7_11eb_82d4_e30b0dfbf0f6row11_col1 {\n",
       "            background-color:  #482677;\n",
       "            color:  #f1f1f1;\n",
       "        }    #T_4ff87c62_06c7_11eb_82d4_e30b0dfbf0f6row11_col2 {\n",
       "            background-color:  #481467;\n",
       "            color:  #f1f1f1;\n",
       "        }    #T_4ff87c62_06c7_11eb_82d4_e30b0dfbf0f6row11_col3 {\n",
       "            background-color:  #3f4889;\n",
       "            color:  #f1f1f1;\n",
       "        }    #T_4ff87c62_06c7_11eb_82d4_e30b0dfbf0f6row11_col4 {\n",
       "            background-color:  #440154;\n",
       "            color:  #f1f1f1;\n",
       "        }    #T_4ff87c62_06c7_11eb_82d4_e30b0dfbf0f6row11_col5 {\n",
       "            background-color:  #453781;\n",
       "            color:  #f1f1f1;\n",
       "        }    #T_4ff87c62_06c7_11eb_82d4_e30b0dfbf0f6row11_col6 {\n",
       "            background-color:  #3f4788;\n",
       "            color:  #f1f1f1;\n",
       "        }    #T_4ff87c62_06c7_11eb_82d4_e30b0dfbf0f6row11_col7 {\n",
       "            background-color:  #000000;\n",
       "            color:  #f1f1f1;\n",
       "        }    #T_4ff87c62_06c7_11eb_82d4_e30b0dfbf0f6row11_col8 {\n",
       "            background-color:  #481d6f;\n",
       "            color:  #f1f1f1;\n",
       "        }    #T_4ff87c62_06c7_11eb_82d4_e30b0dfbf0f6row11_col9 {\n",
       "            background-color:  #482173;\n",
       "            color:  #f1f1f1;\n",
       "        }    #T_4ff87c62_06c7_11eb_82d4_e30b0dfbf0f6row11_col10 {\n",
       "            background-color:  #460b5e;\n",
       "            color:  #f1f1f1;\n",
       "        }    #T_4ff87c62_06c7_11eb_82d4_e30b0dfbf0f6row11_col11 {\n",
       "            background-color:  #fde725;\n",
       "            color:  #000000;\n",
       "        }</style><table id=\"T_4ff87c62_06c7_11eb_82d4_e30b0dfbf0f6\" ><thead>    <tr>        <th class=\"blank level0\" ></th>        <th class=\"col_heading level0 col0\" >ts</th>        <th class=\"col_heading level0 col1\" >PID</th>        <th class=\"col_heading level0 col2\" >TRUN</th>        <th class=\"col_heading level0 col3\" >TSLPI</th>        <th class=\"col_heading level0 col4\" >TSLPU</th>        <th class=\"col_heading level0 col5\" >NICE</th>        <th class=\"col_heading level0 col6\" >PRI</th>        <th class=\"col_heading level0 col7\" >RTPR</th>        <th class=\"col_heading level0 col8\" >CPUNR</th>        <th class=\"col_heading level0 col9\" >EXC</th>        <th class=\"col_heading level0 col10\" >CPU</th>        <th class=\"col_heading level0 col11\" >attack</th>    </tr></thead><tbody>\n",
       "                <tr>\n",
       "                        <th id=\"T_4ff87c62_06c7_11eb_82d4_e30b0dfbf0f6level0_row0\" class=\"row_heading level0 row0\" >ts</th>\n",
       "                        <td id=\"T_4ff87c62_06c7_11eb_82d4_e30b0dfbf0f6row0_col0\" class=\"data row0 col0\" >1.00</td>\n",
       "                        <td id=\"T_4ff87c62_06c7_11eb_82d4_e30b0dfbf0f6row0_col1\" class=\"data row0 col1\" >0.06</td>\n",
       "                        <td id=\"T_4ff87c62_06c7_11eb_82d4_e30b0dfbf0f6row0_col2\" class=\"data row0 col2\" >-0.03</td>\n",
       "                        <td id=\"T_4ff87c62_06c7_11eb_82d4_e30b0dfbf0f6row0_col3\" class=\"data row0 col3\" >0.02</td>\n",
       "                        <td id=\"T_4ff87c62_06c7_11eb_82d4_e30b0dfbf0f6row0_col4\" class=\"data row0 col4\" >-0.00</td>\n",
       "                        <td id=\"T_4ff87c62_06c7_11eb_82d4_e30b0dfbf0f6row0_col5\" class=\"data row0 col5\" >-0.05</td>\n",
       "                        <td id=\"T_4ff87c62_06c7_11eb_82d4_e30b0dfbf0f6row0_col6\" class=\"data row0 col6\" >0.09</td>\n",
       "                        <td id=\"T_4ff87c62_06c7_11eb_82d4_e30b0dfbf0f6row0_col7\" class=\"data row0 col7\" >nan</td>\n",
       "                        <td id=\"T_4ff87c62_06c7_11eb_82d4_e30b0dfbf0f6row0_col8\" class=\"data row0 col8\" >0.17</td>\n",
       "                        <td id=\"T_4ff87c62_06c7_11eb_82d4_e30b0dfbf0f6row0_col9\" class=\"data row0 col9\" >-0.01</td>\n",
       "                        <td id=\"T_4ff87c62_06c7_11eb_82d4_e30b0dfbf0f6row0_col10\" class=\"data row0 col10\" >-0.06</td>\n",
       "                        <td id=\"T_4ff87c62_06c7_11eb_82d4_e30b0dfbf0f6row0_col11\" class=\"data row0 col11\" >0.02</td>\n",
       "            </tr>\n",
       "            <tr>\n",
       "                        <th id=\"T_4ff87c62_06c7_11eb_82d4_e30b0dfbf0f6level0_row1\" class=\"row_heading level0 row1\" >PID</th>\n",
       "                        <td id=\"T_4ff87c62_06c7_11eb_82d4_e30b0dfbf0f6row1_col0\" class=\"data row1 col0\" >0.06</td>\n",
       "                        <td id=\"T_4ff87c62_06c7_11eb_82d4_e30b0dfbf0f6row1_col1\" class=\"data row1 col1\" >1.00</td>\n",
       "                        <td id=\"T_4ff87c62_06c7_11eb_82d4_e30b0dfbf0f6row1_col2\" class=\"data row1 col2\" >-0.06</td>\n",
       "                        <td id=\"T_4ff87c62_06c7_11eb_82d4_e30b0dfbf0f6row1_col3\" class=\"data row1 col3\" >-0.18</td>\n",
       "                        <td id=\"T_4ff87c62_06c7_11eb_82d4_e30b0dfbf0f6row1_col4\" class=\"data row1 col4\" >-0.00</td>\n",
       "                        <td id=\"T_4ff87c62_06c7_11eb_82d4_e30b0dfbf0f6row1_col5\" class=\"data row1 col5\" >-0.14</td>\n",
       "                        <td id=\"T_4ff87c62_06c7_11eb_82d4_e30b0dfbf0f6row1_col6\" class=\"data row1 col6\" >-0.14</td>\n",
       "                        <td id=\"T_4ff87c62_06c7_11eb_82d4_e30b0dfbf0f6row1_col7\" class=\"data row1 col7\" >nan</td>\n",
       "                        <td id=\"T_4ff87c62_06c7_11eb_82d4_e30b0dfbf0f6row1_col8\" class=\"data row1 col8\" >0.07</td>\n",
       "                        <td id=\"T_4ff87c62_06c7_11eb_82d4_e30b0dfbf0f6row1_col9\" class=\"data row1 col9\" >0.01</td>\n",
       "                        <td id=\"T_4ff87c62_06c7_11eb_82d4_e30b0dfbf0f6row1_col10\" class=\"data row1 col10\" >-0.04</td>\n",
       "                        <td id=\"T_4ff87c62_06c7_11eb_82d4_e30b0dfbf0f6row1_col11\" class=\"data row1 col11\" >-0.05</td>\n",
       "            </tr>\n",
       "            <tr>\n",
       "                        <th id=\"T_4ff87c62_06c7_11eb_82d4_e30b0dfbf0f6level0_row2\" class=\"row_heading level0 row2\" >TRUN</th>\n",
       "                        <td id=\"T_4ff87c62_06c7_11eb_82d4_e30b0dfbf0f6row2_col0\" class=\"data row2 col0\" >-0.03</td>\n",
       "                        <td id=\"T_4ff87c62_06c7_11eb_82d4_e30b0dfbf0f6row2_col1\" class=\"data row2 col1\" >-0.06</td>\n",
       "                        <td id=\"T_4ff87c62_06c7_11eb_82d4_e30b0dfbf0f6row2_col2\" class=\"data row2 col2\" >1.00</td>\n",
       "                        <td id=\"T_4ff87c62_06c7_11eb_82d4_e30b0dfbf0f6row2_col3\" class=\"data row2 col3\" >0.01</td>\n",
       "                        <td id=\"T_4ff87c62_06c7_11eb_82d4_e30b0dfbf0f6row2_col4\" class=\"data row2 col4\" >-0.00</td>\n",
       "                        <td id=\"T_4ff87c62_06c7_11eb_82d4_e30b0dfbf0f6row2_col5\" class=\"data row2 col5\" >0.23</td>\n",
       "                        <td id=\"T_4ff87c62_06c7_11eb_82d4_e30b0dfbf0f6row2_col6\" class=\"data row2 col6\" >-0.04</td>\n",
       "                        <td id=\"T_4ff87c62_06c7_11eb_82d4_e30b0dfbf0f6row2_col7\" class=\"data row2 col7\" >nan</td>\n",
       "                        <td id=\"T_4ff87c62_06c7_11eb_82d4_e30b0dfbf0f6row2_col8\" class=\"data row2 col8\" >-0.04</td>\n",
       "                        <td id=\"T_4ff87c62_06c7_11eb_82d4_e30b0dfbf0f6row2_col9\" class=\"data row2 col9\" >-0.01</td>\n",
       "                        <td id=\"T_4ff87c62_06c7_11eb_82d4_e30b0dfbf0f6row2_col10\" class=\"data row2 col10\" >0.52</td>\n",
       "                        <td id=\"T_4ff87c62_06c7_11eb_82d4_e30b0dfbf0f6row2_col11\" class=\"data row2 col11\" >-0.01</td>\n",
       "            </tr>\n",
       "            <tr>\n",
       "                        <th id=\"T_4ff87c62_06c7_11eb_82d4_e30b0dfbf0f6level0_row3\" class=\"row_heading level0 row3\" >TSLPI</th>\n",
       "                        <td id=\"T_4ff87c62_06c7_11eb_82d4_e30b0dfbf0f6row3_col0\" class=\"data row3 col0\" >0.02</td>\n",
       "                        <td id=\"T_4ff87c62_06c7_11eb_82d4_e30b0dfbf0f6row3_col1\" class=\"data row3 col1\" >-0.18</td>\n",
       "                        <td id=\"T_4ff87c62_06c7_11eb_82d4_e30b0dfbf0f6row3_col2\" class=\"data row3 col2\" >0.01</td>\n",
       "                        <td id=\"T_4ff87c62_06c7_11eb_82d4_e30b0dfbf0f6row3_col3\" class=\"data row3 col3\" >1.00</td>\n",
       "                        <td id=\"T_4ff87c62_06c7_11eb_82d4_e30b0dfbf0f6row3_col4\" class=\"data row3 col4\" >-0.00</td>\n",
       "                        <td id=\"T_4ff87c62_06c7_11eb_82d4_e30b0dfbf0f6row3_col5\" class=\"data row3 col5\" >-0.21</td>\n",
       "                        <td id=\"T_4ff87c62_06c7_11eb_82d4_e30b0dfbf0f6row3_col6\" class=\"data row3 col6\" >0.17</td>\n",
       "                        <td id=\"T_4ff87c62_06c7_11eb_82d4_e30b0dfbf0f6row3_col7\" class=\"data row3 col7\" >nan</td>\n",
       "                        <td id=\"T_4ff87c62_06c7_11eb_82d4_e30b0dfbf0f6row3_col8\" class=\"data row3 col8\" >0.07</td>\n",
       "                        <td id=\"T_4ff87c62_06c7_11eb_82d4_e30b0dfbf0f6row3_col9\" class=\"data row3 col9\" >-0.01</td>\n",
       "                        <td id=\"T_4ff87c62_06c7_11eb_82d4_e30b0dfbf0f6row3_col10\" class=\"data row3 col10\" >0.15</td>\n",
       "                        <td id=\"T_4ff87c62_06c7_11eb_82d4_e30b0dfbf0f6row3_col11\" class=\"data row3 col11\" >0.05</td>\n",
       "            </tr>\n",
       "            <tr>\n",
       "                        <th id=\"T_4ff87c62_06c7_11eb_82d4_e30b0dfbf0f6level0_row4\" class=\"row_heading level0 row4\" >TSLPU</th>\n",
       "                        <td id=\"T_4ff87c62_06c7_11eb_82d4_e30b0dfbf0f6row4_col0\" class=\"data row4 col0\" >-0.00</td>\n",
       "                        <td id=\"T_4ff87c62_06c7_11eb_82d4_e30b0dfbf0f6row4_col1\" class=\"data row4 col1\" >-0.00</td>\n",
       "                        <td id=\"T_4ff87c62_06c7_11eb_82d4_e30b0dfbf0f6row4_col2\" class=\"data row4 col2\" >-0.00</td>\n",
       "                        <td id=\"T_4ff87c62_06c7_11eb_82d4_e30b0dfbf0f6row4_col3\" class=\"data row4 col3\" >-0.00</td>\n",
       "                        <td id=\"T_4ff87c62_06c7_11eb_82d4_e30b0dfbf0f6row4_col4\" class=\"data row4 col4\" >1.00</td>\n",
       "                        <td id=\"T_4ff87c62_06c7_11eb_82d4_e30b0dfbf0f6row4_col5\" class=\"data row4 col5\" >-0.00</td>\n",
       "                        <td id=\"T_4ff87c62_06c7_11eb_82d4_e30b0dfbf0f6row4_col6\" class=\"data row4 col6\" >0.00</td>\n",
       "                        <td id=\"T_4ff87c62_06c7_11eb_82d4_e30b0dfbf0f6row4_col7\" class=\"data row4 col7\" >nan</td>\n",
       "                        <td id=\"T_4ff87c62_06c7_11eb_82d4_e30b0dfbf0f6row4_col8\" class=\"data row4 col8\" >0.00</td>\n",
       "                        <td id=\"T_4ff87c62_06c7_11eb_82d4_e30b0dfbf0f6row4_col9\" class=\"data row4 col9\" >-0.00</td>\n",
       "                        <td id=\"T_4ff87c62_06c7_11eb_82d4_e30b0dfbf0f6row4_col10\" class=\"data row4 col10\" >0.01</td>\n",
       "                        <td id=\"T_4ff87c62_06c7_11eb_82d4_e30b0dfbf0f6row4_col11\" class=\"data row4 col11\" >-0.00</td>\n",
       "            </tr>\n",
       "            <tr>\n",
       "                        <th id=\"T_4ff87c62_06c7_11eb_82d4_e30b0dfbf0f6level0_row5\" class=\"row_heading level0 row5\" >NICE</th>\n",
       "                        <td id=\"T_4ff87c62_06c7_11eb_82d4_e30b0dfbf0f6row5_col0\" class=\"data row5 col0\" >-0.05</td>\n",
       "                        <td id=\"T_4ff87c62_06c7_11eb_82d4_e30b0dfbf0f6row5_col1\" class=\"data row5 col1\" >-0.14</td>\n",
       "                        <td id=\"T_4ff87c62_06c7_11eb_82d4_e30b0dfbf0f6row5_col2\" class=\"data row5 col2\" >0.23</td>\n",
       "                        <td id=\"T_4ff87c62_06c7_11eb_82d4_e30b0dfbf0f6row5_col3\" class=\"data row5 col3\" >-0.21</td>\n",
       "                        <td id=\"T_4ff87c62_06c7_11eb_82d4_e30b0dfbf0f6row5_col4\" class=\"data row5 col4\" >-0.00</td>\n",
       "                        <td id=\"T_4ff87c62_06c7_11eb_82d4_e30b0dfbf0f6row5_col5\" class=\"data row5 col5\" >1.00</td>\n",
       "                        <td id=\"T_4ff87c62_06c7_11eb_82d4_e30b0dfbf0f6row5_col6\" class=\"data row5 col6\" >-0.27</td>\n",
       "                        <td id=\"T_4ff87c62_06c7_11eb_82d4_e30b0dfbf0f6row5_col7\" class=\"data row5 col7\" >nan</td>\n",
       "                        <td id=\"T_4ff87c62_06c7_11eb_82d4_e30b0dfbf0f6row5_col8\" class=\"data row5 col8\" >-0.08</td>\n",
       "                        <td id=\"T_4ff87c62_06c7_11eb_82d4_e30b0dfbf0f6row5_col9\" class=\"data row5 col9\" >-0.01</td>\n",
       "                        <td id=\"T_4ff87c62_06c7_11eb_82d4_e30b0dfbf0f6row5_col10\" class=\"data row5 col10\" >-0.06</td>\n",
       "                        <td id=\"T_4ff87c62_06c7_11eb_82d4_e30b0dfbf0f6row5_col11\" class=\"data row5 col11\" >-0.07</td>\n",
       "            </tr>\n",
       "            <tr>\n",
       "                        <th id=\"T_4ff87c62_06c7_11eb_82d4_e30b0dfbf0f6level0_row6\" class=\"row_heading level0 row6\" >PRI</th>\n",
       "                        <td id=\"T_4ff87c62_06c7_11eb_82d4_e30b0dfbf0f6row6_col0\" class=\"data row6 col0\" >0.09</td>\n",
       "                        <td id=\"T_4ff87c62_06c7_11eb_82d4_e30b0dfbf0f6row6_col1\" class=\"data row6 col1\" >-0.14</td>\n",
       "                        <td id=\"T_4ff87c62_06c7_11eb_82d4_e30b0dfbf0f6row6_col2\" class=\"data row6 col2\" >-0.04</td>\n",
       "                        <td id=\"T_4ff87c62_06c7_11eb_82d4_e30b0dfbf0f6row6_col3\" class=\"data row6 col3\" >0.17</td>\n",
       "                        <td id=\"T_4ff87c62_06c7_11eb_82d4_e30b0dfbf0f6row6_col4\" class=\"data row6 col4\" >0.00</td>\n",
       "                        <td id=\"T_4ff87c62_06c7_11eb_82d4_e30b0dfbf0f6row6_col5\" class=\"data row6 col5\" >-0.27</td>\n",
       "                        <td id=\"T_4ff87c62_06c7_11eb_82d4_e30b0dfbf0f6row6_col6\" class=\"data row6 col6\" >1.00</td>\n",
       "                        <td id=\"T_4ff87c62_06c7_11eb_82d4_e30b0dfbf0f6row6_col7\" class=\"data row6 col7\" >nan</td>\n",
       "                        <td id=\"T_4ff87c62_06c7_11eb_82d4_e30b0dfbf0f6row6_col8\" class=\"data row6 col8\" >0.26</td>\n",
       "                        <td id=\"T_4ff87c62_06c7_11eb_82d4_e30b0dfbf0f6row6_col9\" class=\"data row6 col9\" >-0.10</td>\n",
       "                        <td id=\"T_4ff87c62_06c7_11eb_82d4_e30b0dfbf0f6row6_col10\" class=\"data row6 col10\" >0.05</td>\n",
       "                        <td id=\"T_4ff87c62_06c7_11eb_82d4_e30b0dfbf0f6row6_col11\" class=\"data row6 col11\" >0.00</td>\n",
       "            </tr>\n",
       "            <tr>\n",
       "                        <th id=\"T_4ff87c62_06c7_11eb_82d4_e30b0dfbf0f6level0_row7\" class=\"row_heading level0 row7\" >RTPR</th>\n",
       "                        <td id=\"T_4ff87c62_06c7_11eb_82d4_e30b0dfbf0f6row7_col0\" class=\"data row7 col0\" >nan</td>\n",
       "                        <td id=\"T_4ff87c62_06c7_11eb_82d4_e30b0dfbf0f6row7_col1\" class=\"data row7 col1\" >nan</td>\n",
       "                        <td id=\"T_4ff87c62_06c7_11eb_82d4_e30b0dfbf0f6row7_col2\" class=\"data row7 col2\" >nan</td>\n",
       "                        <td id=\"T_4ff87c62_06c7_11eb_82d4_e30b0dfbf0f6row7_col3\" class=\"data row7 col3\" >nan</td>\n",
       "                        <td id=\"T_4ff87c62_06c7_11eb_82d4_e30b0dfbf0f6row7_col4\" class=\"data row7 col4\" >nan</td>\n",
       "                        <td id=\"T_4ff87c62_06c7_11eb_82d4_e30b0dfbf0f6row7_col5\" class=\"data row7 col5\" >nan</td>\n",
       "                        <td id=\"T_4ff87c62_06c7_11eb_82d4_e30b0dfbf0f6row7_col6\" class=\"data row7 col6\" >nan</td>\n",
       "                        <td id=\"T_4ff87c62_06c7_11eb_82d4_e30b0dfbf0f6row7_col7\" class=\"data row7 col7\" >nan</td>\n",
       "                        <td id=\"T_4ff87c62_06c7_11eb_82d4_e30b0dfbf0f6row7_col8\" class=\"data row7 col8\" >nan</td>\n",
       "                        <td id=\"T_4ff87c62_06c7_11eb_82d4_e30b0dfbf0f6row7_col9\" class=\"data row7 col9\" >nan</td>\n",
       "                        <td id=\"T_4ff87c62_06c7_11eb_82d4_e30b0dfbf0f6row7_col10\" class=\"data row7 col10\" >nan</td>\n",
       "                        <td id=\"T_4ff87c62_06c7_11eb_82d4_e30b0dfbf0f6row7_col11\" class=\"data row7 col11\" >nan</td>\n",
       "            </tr>\n",
       "            <tr>\n",
       "                        <th id=\"T_4ff87c62_06c7_11eb_82d4_e30b0dfbf0f6level0_row8\" class=\"row_heading level0 row8\" >CPUNR</th>\n",
       "                        <td id=\"T_4ff87c62_06c7_11eb_82d4_e30b0dfbf0f6row8_col0\" class=\"data row8 col0\" >0.17</td>\n",
       "                        <td id=\"T_4ff87c62_06c7_11eb_82d4_e30b0dfbf0f6row8_col1\" class=\"data row8 col1\" >0.07</td>\n",
       "                        <td id=\"T_4ff87c62_06c7_11eb_82d4_e30b0dfbf0f6row8_col2\" class=\"data row8 col2\" >-0.04</td>\n",
       "                        <td id=\"T_4ff87c62_06c7_11eb_82d4_e30b0dfbf0f6row8_col3\" class=\"data row8 col3\" >0.07</td>\n",
       "                        <td id=\"T_4ff87c62_06c7_11eb_82d4_e30b0dfbf0f6row8_col4\" class=\"data row8 col4\" >0.00</td>\n",
       "                        <td id=\"T_4ff87c62_06c7_11eb_82d4_e30b0dfbf0f6row8_col5\" class=\"data row8 col5\" >-0.08</td>\n",
       "                        <td id=\"T_4ff87c62_06c7_11eb_82d4_e30b0dfbf0f6row8_col6\" class=\"data row8 col6\" >0.26</td>\n",
       "                        <td id=\"T_4ff87c62_06c7_11eb_82d4_e30b0dfbf0f6row8_col7\" class=\"data row8 col7\" >nan</td>\n",
       "                        <td id=\"T_4ff87c62_06c7_11eb_82d4_e30b0dfbf0f6row8_col8\" class=\"data row8 col8\" >1.00</td>\n",
       "                        <td id=\"T_4ff87c62_06c7_11eb_82d4_e30b0dfbf0f6row8_col9\" class=\"data row8 col9\" >-0.03</td>\n",
       "                        <td id=\"T_4ff87c62_06c7_11eb_82d4_e30b0dfbf0f6row8_col10\" class=\"data row8 col10\" >-0.05</td>\n",
       "                        <td id=\"T_4ff87c62_06c7_11eb_82d4_e30b0dfbf0f6row8_col11\" class=\"data row8 col11\" >0.01</td>\n",
       "            </tr>\n",
       "            <tr>\n",
       "                        <th id=\"T_4ff87c62_06c7_11eb_82d4_e30b0dfbf0f6level0_row9\" class=\"row_heading level0 row9\" >EXC</th>\n",
       "                        <td id=\"T_4ff87c62_06c7_11eb_82d4_e30b0dfbf0f6row9_col0\" class=\"data row9 col0\" >-0.01</td>\n",
       "                        <td id=\"T_4ff87c62_06c7_11eb_82d4_e30b0dfbf0f6row9_col1\" class=\"data row9 col1\" >0.01</td>\n",
       "                        <td id=\"T_4ff87c62_06c7_11eb_82d4_e30b0dfbf0f6row9_col2\" class=\"data row9 col2\" >-0.01</td>\n",
       "                        <td id=\"T_4ff87c62_06c7_11eb_82d4_e30b0dfbf0f6row9_col3\" class=\"data row9 col3\" >-0.01</td>\n",
       "                        <td id=\"T_4ff87c62_06c7_11eb_82d4_e30b0dfbf0f6row9_col4\" class=\"data row9 col4\" >-0.00</td>\n",
       "                        <td id=\"T_4ff87c62_06c7_11eb_82d4_e30b0dfbf0f6row9_col5\" class=\"data row9 col5\" >-0.01</td>\n",
       "                        <td id=\"T_4ff87c62_06c7_11eb_82d4_e30b0dfbf0f6row9_col6\" class=\"data row9 col6\" >-0.10</td>\n",
       "                        <td id=\"T_4ff87c62_06c7_11eb_82d4_e30b0dfbf0f6row9_col7\" class=\"data row9 col7\" >nan</td>\n",
       "                        <td id=\"T_4ff87c62_06c7_11eb_82d4_e30b0dfbf0f6row9_col8\" class=\"data row9 col8\" >-0.03</td>\n",
       "                        <td id=\"T_4ff87c62_06c7_11eb_82d4_e30b0dfbf0f6row9_col9\" class=\"data row9 col9\" >1.00</td>\n",
       "                        <td id=\"T_4ff87c62_06c7_11eb_82d4_e30b0dfbf0f6row9_col10\" class=\"data row9 col10\" >-0.00</td>\n",
       "                        <td id=\"T_4ff87c62_06c7_11eb_82d4_e30b0dfbf0f6row9_col11\" class=\"data row9 col11\" >-0.00</td>\n",
       "            </tr>\n",
       "            <tr>\n",
       "                        <th id=\"T_4ff87c62_06c7_11eb_82d4_e30b0dfbf0f6level0_row10\" class=\"row_heading level0 row10\" >CPU</th>\n",
       "                        <td id=\"T_4ff87c62_06c7_11eb_82d4_e30b0dfbf0f6row10_col0\" class=\"data row10 col0\" >-0.06</td>\n",
       "                        <td id=\"T_4ff87c62_06c7_11eb_82d4_e30b0dfbf0f6row10_col1\" class=\"data row10 col1\" >-0.04</td>\n",
       "                        <td id=\"T_4ff87c62_06c7_11eb_82d4_e30b0dfbf0f6row10_col2\" class=\"data row10 col2\" >0.52</td>\n",
       "                        <td id=\"T_4ff87c62_06c7_11eb_82d4_e30b0dfbf0f6row10_col3\" class=\"data row10 col3\" >0.15</td>\n",
       "                        <td id=\"T_4ff87c62_06c7_11eb_82d4_e30b0dfbf0f6row10_col4\" class=\"data row10 col4\" >0.01</td>\n",
       "                        <td id=\"T_4ff87c62_06c7_11eb_82d4_e30b0dfbf0f6row10_col5\" class=\"data row10 col5\" >-0.06</td>\n",
       "                        <td id=\"T_4ff87c62_06c7_11eb_82d4_e30b0dfbf0f6row10_col6\" class=\"data row10 col6\" >0.05</td>\n",
       "                        <td id=\"T_4ff87c62_06c7_11eb_82d4_e30b0dfbf0f6row10_col7\" class=\"data row10 col7\" >nan</td>\n",
       "                        <td id=\"T_4ff87c62_06c7_11eb_82d4_e30b0dfbf0f6row10_col8\" class=\"data row10 col8\" >-0.05</td>\n",
       "                        <td id=\"T_4ff87c62_06c7_11eb_82d4_e30b0dfbf0f6row10_col9\" class=\"data row10 col9\" >-0.00</td>\n",
       "                        <td id=\"T_4ff87c62_06c7_11eb_82d4_e30b0dfbf0f6row10_col10\" class=\"data row10 col10\" >1.00</td>\n",
       "                        <td id=\"T_4ff87c62_06c7_11eb_82d4_e30b0dfbf0f6row10_col11\" class=\"data row10 col11\" >-0.03</td>\n",
       "            </tr>\n",
       "            <tr>\n",
       "                        <th id=\"T_4ff87c62_06c7_11eb_82d4_e30b0dfbf0f6level0_row11\" class=\"row_heading level0 row11\" >attack</th>\n",
       "                        <td id=\"T_4ff87c62_06c7_11eb_82d4_e30b0dfbf0f6row11_col0\" class=\"data row11 col0\" >0.02</td>\n",
       "                        <td id=\"T_4ff87c62_06c7_11eb_82d4_e30b0dfbf0f6row11_col1\" class=\"data row11 col1\" >-0.05</td>\n",
       "                        <td id=\"T_4ff87c62_06c7_11eb_82d4_e30b0dfbf0f6row11_col2\" class=\"data row11 col2\" >-0.01</td>\n",
       "                        <td id=\"T_4ff87c62_06c7_11eb_82d4_e30b0dfbf0f6row11_col3\" class=\"data row11 col3\" >0.05</td>\n",
       "                        <td id=\"T_4ff87c62_06c7_11eb_82d4_e30b0dfbf0f6row11_col4\" class=\"data row11 col4\" >-0.00</td>\n",
       "                        <td id=\"T_4ff87c62_06c7_11eb_82d4_e30b0dfbf0f6row11_col5\" class=\"data row11 col5\" >-0.07</td>\n",
       "                        <td id=\"T_4ff87c62_06c7_11eb_82d4_e30b0dfbf0f6row11_col6\" class=\"data row11 col6\" >0.00</td>\n",
       "                        <td id=\"T_4ff87c62_06c7_11eb_82d4_e30b0dfbf0f6row11_col7\" class=\"data row11 col7\" >nan</td>\n",
       "                        <td id=\"T_4ff87c62_06c7_11eb_82d4_e30b0dfbf0f6row11_col8\" class=\"data row11 col8\" >0.01</td>\n",
       "                        <td id=\"T_4ff87c62_06c7_11eb_82d4_e30b0dfbf0f6row11_col9\" class=\"data row11 col9\" >-0.00</td>\n",
       "                        <td id=\"T_4ff87c62_06c7_11eb_82d4_e30b0dfbf0f6row11_col10\" class=\"data row11 col10\" >-0.03</td>\n",
       "                        <td id=\"T_4ff87c62_06c7_11eb_82d4_e30b0dfbf0f6row11_col11\" class=\"data row11 col11\" >1.00</td>\n",
       "            </tr>\n",
       "    </tbody></table>"
      ],
      "text/plain": [
       "<pandas.io.formats.style.Styler at 0x7f6321e64a60>"
      ]
     },
     "execution_count": 32,
     "metadata": {},
     "output_type": "execute_result"
    }
   ],
   "source": [
    "import pandas as pd\n",
    "import numpy as np\n",
    "from pyspark.sql.functions import *\n",
    "\n",
    "prsfplot = newProcessDf.orderBy(rand()).limit(200000)\n",
    "prsfplot1 = prsfplot.toPandas()\n",
    "corr = prsfplot1.corr()\n",
    "corr.style.background_gradient(cmap='viridis').set_precision(2)"
   ]
  },
  {
   "cell_type": "code",
   "execution_count": 33,
   "metadata": {},
   "outputs": [
    {
     "data": {
      "image/png": "[encoded data removed]",
      "text/plain": [
       "<Figure size 432x288 with 1 Axes>"
      ]
     },
     "metadata": {
      "needs_background": "light"
     },
     "output_type": "display_data"
    }
   ],
   "source": [
    "import matplotlib.pyplot as plt\n",
    "import pyspark.sql.functions as F\n",
    "prosplotdf = newProcessDf.filter(newProcessDf.attack == 1).groupby('type').agg(f.count('attack').alias('Total Attack Count')).toPandas()\n",
    "     \n",
    "\n",
    "prosplotdf.plot.bar(x = 'type') #Plotting bar graph\n",
    "plt.xlabel('Type of Attack') #defining x label\n",
    "plt.ylabel('Total Attacks Count') #defining y label\n",
    "plt.show()"
   ]
  },
  {
   "cell_type": "markdown",
   "metadata": {},
   "source": [
    "Now for the process data In the above two plots we have plotted data set there is a correlation matrix and a bar chart that represent the following:\n",
    "\n",
    "- In Bar plot We have plotted a bar chart that descibes the different type of attack types in the memory data and we can see in the plot that ddos and dos has the highest count and mitm has the lowest\n",
    "\n",
    "- In Correlation Plot: The correlation plot shows the relationship between each feature of the memory data which has integer data type value close to 1 represent highly correlated variables and variable near to -1 represnt less correlated variable "
   ]
  },
  {
   "cell_type": "markdown",
   "metadata": {},
   "source": [
    "# 2 Feature extraction and ML training\n",
    "## 2.1 Preparing the training data and testing data\n",
    "### 2.1.1"
   ]
  },
  {
   "cell_type": "code",
   "execution_count": 34,
   "metadata": {},
   "outputs": [],
   "source": [
    "# creating training and testing data at random for memory data\n",
    "trainMemory, testMemory = newMemoryDf.randomSplit([0.8, 0.2])"
   ]
  },
  {
   "cell_type": "code",
   "execution_count": 35,
   "metadata": {},
   "outputs": [],
   "source": [
    "# creating training and testing data at random for process data\n",
    "trainProcess, testProcess = newProcessDf.randomSplit([0.8, 0.2])"
   ]
  },
  {
   "cell_type": "markdown",
   "metadata": {},
   "source": [
    "## 2.1.2"
   ]
  },
  {
   "cell_type": "code",
   "execution_count": 36,
   "metadata": {},
   "outputs": [],
   "source": [
    "MemoryTrainAttackCount=0\n",
    "MemoryTrain_NAttackCount=0\n",
    "MemoryTrain_Attack=trainMemory.filter((trainMemory['attack']==1))\n",
    "MemoryTrain_nAttack= trainMemory.filter((trainMemory['attack']==0))\n",
    "MemoryTrainAttackCount=(int) (MemoryTrain_Attack.count()*0.2)\n",
    "MemoryTrain_NAttackCount=(int) (MemoryTrainAttackCount*2)\n",
    "train_memory_Attack=MemoryTrain_Attack.orderBy(f.rand()).limit(MemoryTrainAttackCount)\n",
    "train_memory_nAttack=MemoryTrain_nAttack.orderBy(f.rand()).limit(MemoryTrain_NAttackCount)\n",
    "final_train_memory=train_memory_Attack.union(train_memory_nAttack)"
   ]
  },
  {
   "cell_type": "code",
   "execution_count": 37,
   "metadata": {},
   "outputs": [],
   "source": [
    "processTrainAttackCount=0\n",
    "processTrain_NAttackCount=0\n",
    "processTrain_Attack=trainProcess.filter((trainProcess['attack']==1))\n",
    "processTrain_nAttack= trainProcess.filter((trainProcess['attack']==0))\n",
    "processTrainAttackCount=(int) (processTrain_Attack.count()*0.2)\n",
    "processTrain_NAttackCount=(int) (processTrainAttackCount*2)\n",
    "train_process_Attack=processTrain_Attack.orderBy(f.rand()).limit(processTrainAttackCount)\n",
    "train_process_nAttack=processTrain_nAttack.orderBy(f.rand()).limit(processTrain_NAttackCount)\n",
    "final_train_process=train_process_Attack.union(train_process_nAttack)"
   ]
  },
  {
   "cell_type": "markdown",
   "metadata": {},
   "source": [
    "# 2.2.1 Feature selection"
   ]
  },
  {
   "cell_type": "code",
   "execution_count": 38,
   "metadata": {},
   "outputs": [],
   "source": [
    "featuresMemory= ['MINFLT','VSTEXT','VSIZE','RGROW','VGROW','RSIZE']"
   ]
  },
  {
   "cell_type": "code",
   "execution_count": 39,
   "metadata": {},
   "outputs": [],
   "source": [
    "featuresProcess = ['TSLPI','NICE','PRI']"
   ]
  },
  {
   "cell_type": "markdown",
   "metadata": {},
   "source": [
    "In order to select the features two factors i.e variance of the input column as we know that when variance is around 0 i.e. less deviation leads to an indication that the input columns is constant and there is considerablely no chance of improvement in the perfomance of the model. A threshold is set for variance using the probablity distribution function to select the most appropriate input variable for the model and other factor that is considered is the fact that the correlation between input and output column where the outout columns is the 'attack' column.\n",
    "\n",
    "So in the data that we are provided we will consider those features the have comparitively high variance and those that have less variance will not be considered as the are not very usefull for out model\n",
    "\n",
    "Now while looking at the correlation factor we know features that have high correlation value are more related to the output class as they are linearly dependent on each other and have effect on each other as depenent variable.\n",
    "\n",
    "After understanding the two factors we can now narrow down our feature list to MINFLT, VSTEXT, VSIZE, RGROW, VGROW and SIZE for the memory data and for process we can select TSLPI, POLI, NICE and PRI\n",
    "\n",
    "In memory Data mostly all the input variable are in numeric format thus we can directly pass it to the standard scaler as the column with high difference will normalise them in equal proportion and the output passed to vector assembler will concatenate all the feature in a column thus we can pass both the decision tree and gradient booster tree model on the feature.\n",
    "\n",
    "\n",
    "For the process data set POLI column is in string thus we will use string indexer before passing to one hot encoder along with TSLPI, POLI and PRI to convert integer to byte and we will pass it to vector assembler and finally to decision tree and gradient boosted tree model.\n"
   ]
  },
  {
   "cell_type": "markdown",
   "metadata": {},
   "source": [
    "## 2.2.2"
   ]
  },
  {
   "cell_type": "code",
   "execution_count": 40,
   "metadata": {},
   "outputs": [],
   "source": [
    "# Memory feature, assembler and scaler \n",
    "\n",
    "assemblerMemory = VectorAssembler(inputCols=featuresMemory, outputCol='featureUsed')\n",
    "scalerMemory = StandardScaler(inputCol='featureUsed', outputCol='scaledFeature')\n"
   ]
  },
  {
   "cell_type": "code",
   "execution_count": 41,
   "metadata": {},
   "outputs": [],
   "source": [
    "\n",
    "inputIndexer=['POLI']\n",
    "outputIndexer=['POLI_index']\n",
    "outputEncoder=['POLI_vec']\n",
    "indexer = StringIndexer(inputCols=inputIndexer,outputCols=outputIndexer)\n"
   ]
  },
  {
   "cell_type": "code",
   "execution_count": 42,
   "metadata": {},
   "outputs": [
    {
     "name": "stdout",
     "output_type": "stream",
     "text": [
      "['TSLPI', 'NICE', 'PRI', 'POLI_vec']\n"
     ]
    }
   ],
   "source": [
    "encoder = OneHotEncoder(inputCols=outputIndexer,outputCols=outputEncoder)\n",
    "featuresProcess=featuresProcess+outputEncoder\n",
    "print(featuresProcess)\n",
    "process_assembler = VectorAssembler(inputCols=featuresProcess,outputCol='features')\n",
    "\n",
    "feature_predicted_Dtree = DecisionTreeClassifier(featuresCol = 'features', labelCol = 'attack', maxDepth = 3)"
   ]
  },
  {
   "cell_type": "markdown",
   "metadata": {},
   "source": [
    "## 2.2.3"
   ]
  },
  {
   "cell_type": "code",
   "execution_count": 43,
   "metadata": {},
   "outputs": [],
   "source": [
    "memory_Dtree = DecisionTreeClassifier(featuresCol = 'scaledFeature', labelCol = 'attack', maxDepth = 3)\n",
    "memory_pipeline_Dtree= Pipeline(stages=[assemblerMemory,scalerMemory,memory_Dtree])\n"
   ]
  },
  {
   "cell_type": "code",
   "execution_count": 44,
   "metadata": {},
   "outputs": [],
   "source": [
    "from pyspark.ml import Pipeline\n",
    "\n",
    "process_pipeline_Dtree = Pipeline(stages=[indexer,encoder,process_assembler,feature_predicted_Dtree])\n",
    "\n"
   ]
  },
  {
   "cell_type": "code",
   "execution_count": 45,
   "metadata": {},
   "outputs": [],
   "source": [
    "from pyspark.ml.classification import GBTClassifier\n",
    "\n",
    "\n",
    "gbtClassify = GBTClassifier(labelCol=\"attack\", featuresCol=\"scaledFeature\", maxIter=10)\n",
    "from pyspark.ml import Pipeline\n",
    "memoryGDT_pipeline = Pipeline(stages=[assemblerMemory,scalerMemory,gbtClassify])\n",
    "\n"
   ]
  },
  {
   "cell_type": "code",
   "execution_count": 46,
   "metadata": {},
   "outputs": [],
   "source": [
    "# process GDT\n",
    "from pyspark.ml.classification import GBTClassifier\n",
    "from pyspark.ml import Pipeline\n",
    "\n",
    "gbtClassify_process = GBTClassifier(labelCol=\"attack\", featuresCol=\"features\", maxIter=10)\n",
    "\n",
    "processGDT_pipeline = Pipeline(stages=[indexer,encoder,process_assembler,gbtClassify_process])\n",
    "\n",
    "\n",
    "\n"
   ]
  },
  {
   "cell_type": "markdown",
   "metadata": {},
   "source": [
    "# 2.3.1"
   ]
  },
  {
   "cell_type": "code",
   "execution_count": 47,
   "metadata": {},
   "outputs": [
    {
     "data": {
      "text/plain": [
       "PipelineModel_e526c20dc66a"
      ]
     },
     "execution_count": 47,
     "metadata": {},
     "output_type": "execute_result"
    }
   ],
   "source": [
    "memory_Dtree_model = memory_pipeline_Dtree.fit(final_train_memory)\n",
    "model_process_decisiontree = process_pipeline_Dtree.fit(final_train_process)\n",
    "memory_GDT_model = memoryGDT_pipeline.fit(final_train_memory)\n",
    "process_GDT_model = processGDT_pipeline.fit(final_train_process)"
   ]
  },
  {
   "cell_type": "markdown",
   "metadata": {},
   "source": [
    "## 2.3.2 & 2.3.3"
   ]
  },
  {
   "cell_type": "code",
   "execution_count": 48,
   "metadata": {},
   "outputs": [],
   "source": [
    "memory_predicted_Dtree = memory_Dtree_model.transform(testMemory)\n",
    "process_gdt_predict = process_GDT_model.transform(testProcess)\n",
    "memory_gdt_predict = memory_GDT_model.transform(testMemory)\n",
    "process_Dtree_predict = model_process_decisiontree.transform(testProcess)\n"
   ]
  },
  {
   "cell_type": "code",
   "execution_count": 49,
   "metadata": {},
   "outputs": [],
   "source": [
    "from pyspark.ml.evaluation import BinaryClassificationEvaluator\n",
    "def compute_metrics(prediction):\n",
    "    TN = prediction.filter('prediction = 0 AND attack = 0').count()\n",
    "    TP = prediction.filter('prediction = 1 AND attack = 1').count()\n",
    "    FN = prediction.filter('prediction = 0 AND attack = 1').count()\n",
    "    FP = prediction.filter('prediction = 1 AND attack = 0').count()\n",
    "    accuracy = (TP + TN)/(TP + TN + FP + FN)#WRITE CODE : formula to find accuracy\n",
    "    precision = TP / (TP + FP)#WRITE CODE : formula to find precision\n",
    "    recall = TP / (TP + FN)#WRITE CODE : formula to find recall\n",
    "    evaluator = BinaryClassificationEvaluator(rawPredictionCol='rawPrediction',labelCol=\"attack\")\n",
    "    auc_dt = evaluator.evaluate(prediction)\n",
    "    return auc_dt,accuracy,precision,recall"
   ]
  },
  {
   "cell_type": "code",
   "execution_count": 50,
   "metadata": {},
   "outputs": [
    {
     "name": "stdout",
     "output_type": "stream",
     "text": [
      "Decision Tree for Memory dataset\n",
      "\n",
      "Area Under Curve : 0.4029571315348834\n",
      "\n",
      "Accuracy : 0.8082693806583129\n",
      "\n",
      "Precision : 0.22699041805232867\n",
      "\n",
      "Recall : 0.3664444008629143\n",
      "\n",
      "Graident Tree for Memory dataset \n",
      "\n",
      "Area Under Curve : 0.8070249398389373\n",
      "\n",
      "Accuracy : 0.8632886663868737\n",
      "\n",
      "Precision : 0.3583382475547512\n",
      "\n",
      "Recall : 0.43199646989605806\n"
     ]
    }
   ],
   "source": [
    "decision_metric_memory = compute_metrics(memory_predicted_Dtree)\n",
    "print(\"Decision Tree for Memory dataset\")\n",
    "print(\"\\nArea Under Curve :\", decision_metric_memory[0])\n",
    "print(\"\\nAccuracy :\", decision_metric_memory[1])\n",
    "print(\"\\nPrecision :\", decision_metric_memory[2])\n",
    "print(\"\\nRecall :\", decision_metric_memory[3])\n",
    "\n",
    "gradient_metric_memory = compute_metrics(memory_gdt_predict)\n",
    "print(\"\\nGraident Tree for Memory dataset \")\n",
    "print(\"\\nArea Under Curve :\", gradient_metric_memory[0])\n",
    "print(\"\\nAccuracy :\", gradient_metric_memory[1])\n",
    "print(\"\\nPrecision :\", gradient_metric_memory[2])\n",
    "print(\"\\nRecall :\", gradient_metric_memory[3])"
   ]
  },
  {
   "cell_type": "code",
   "execution_count": 51,
   "metadata": {},
   "outputs": [
    {
     "name": "stdout",
     "output_type": "stream",
     "text": [
      "Decision Tree for Process dataset\n",
      "\n",
      "Area Under Curve : 0.5227969895352536\n",
      "\n",
      "Accuracy : 0.8356996340985885\n",
      "\n",
      "Precision : 0.2650306748466258\n",
      "\n",
      "Recall : 0.04809948782952774\n",
      "\n",
      "Graident Tree for Memory dataset \n",
      "\n",
      "Area Under Curve : 0.5892252829330865\n",
      "\n",
      "Accuracy : 0.8360860218399836\n",
      "\n",
      "Precision : 0.2973993288590604\n",
      "\n",
      "Recall : 0.0607238904400555\n"
     ]
    }
   ],
   "source": [
    "try:\n",
    "    decision_metric_process = compute_metrics(process_Dtree_predict)\n",
    "    print(\"Decision Tree for Process dataset\")\n",
    "    print(\"\\nArea Under Curve :\", decision_metric_process[0])\n",
    "    print(\"\\nAccuracy :\", decision_metric_process[1])\n",
    "    print(\"\\nPrecision :\", decision_metric_process[2])\n",
    "    print(\"\\nRecall :\", decision_metric_process[3])\n",
    "\n",
    "except:\n",
    "    pass\n",
    "gradient_metric_process = compute_metrics(process_gdt_predict)\n",
    "print(\"\\nGraident Tree for Memory dataset \")\n",
    "print(\"\\nArea Under Curve :\", gradient_metric_process[0])\n",
    "print(\"\\nAccuracy :\", gradient_metric_process[1])\n",
    "print(\"\\nPrecision :\", gradient_metric_process[2])\n",
    "print(\"\\nRecall :\", gradient_metric_process[3])\n",
    "\n",
    "\n"
   ]
  },
  {
   "cell_type": "markdown",
   "metadata": {},
   "source": [
    "# AUC & ACC & precision and recall which is better\n",
    "\n",
    "The Most important metric in identifying the best model is AUC at different threshold. AUC represents the degree or measure of separabilty i.e the measure of seperablity i.e how much the model can differentiate between groups.\n",
    "AUC will be higher when the model is able to predict attack and non attack as the same i.e attack or non attack. In this assignment we used binaryClassificationEvaluator for computing the AUC-ROC curve. when we see that AUC values for both the algo in the data sets we see GBT algorithm has a higher AUC and accuracy as well."
   ]
  },
  {
   "cell_type": "markdown",
   "metadata": {},
   "source": [
    "# 2.3.4\n",
    "## Memory Data"
   ]
  },
  {
   "cell_type": "code",
   "execution_count": 52,
   "metadata": {},
   "outputs": [],
   "source": [
    "from pyspark.mllib.evaluation import BinaryClassificationMetrics\n",
    "\n",
    "# Scala version implements .roc() and .pr()\n",
    "# Python: https://spark.apache.org/docs/latest/api/python/_modules/pyspark/mllib/common.html\n",
    "# Scala: https://spark.apache.org/docs/latest/api/java/org/apache/spark/mllib/evaluation/BinaryClassificationMetrics.html\n",
    "class CurveMetrics(BinaryClassificationMetrics):\n",
    "    def init(self, *args):\n",
    "        super(CurveMetrics, self).init(*args)\n",
    "\n",
    "    def _to_list(self, rdd):\n",
    "        points = []\n",
    "        # Note this collect could be inefficient for large datasets \n",
    "        # considering there may be one probability per datapoint (at most)\n",
    "        # The Scala version takes a numBins parameter, \n",
    "        # but it doesn't seem possible to pass this from Python to Java\n",
    "        for row in rdd.collect():\n",
    "            # Results are returned as type scala.Tuple2, \n",
    "            # which doesn't appear to have a py4j mapping\n",
    "            points += [(float(row._1()), float(row._2()))]\n",
    "        return points\n",
    "\n",
    "    def get_curve(self, method):\n",
    "        rdd = getattr(self._java_model, method)().toJavaRDD()\n",
    "        return self._to_list(rdd)"
   ]
  },
  {
   "cell_type": "code",
   "execution_count": 55,
   "metadata": {},
   "outputs": [
    {
     "data": {
      "text/plain": [
       "[<matplotlib.lines.Line2D at 0x7f6320412130>]"
      ]
     },
     "execution_count": 55,
     "metadata": {},
     "output_type": "execute_result"
    },
    {
     "data": {
      "image/png": "[encoded data removed]",
      "text/plain": [
       "<Figure size 432x288 with 1 Axes>"
      ]
     },
     "metadata": {
      "needs_background": "light"
     },
     "output_type": "display_data"
    }
   ],
   "source": [
    "import matplotlib.pyplot as plt\n",
    "\n",
    "preds = memory_gdt_predict.select('attack','probability').rdd.map(lambda row: (float(row['probability'][1]), float(row['attack'])))\n",
    "\n",
    "# Returns as a list (false positive rate, true positive rate)\n",
    "points = CurveMetrics(preds).get_curve('roc')\n",
    "\n",
    "plt.figure()\n",
    "x_val = [x[0] for x in points]\n",
    "y_val = [x[1] for x in points]\n",
    "plt.title(\"ROC CURVE\")\n",
    "plt.xlabel(\"FPR\")\n",
    "plt.ylabel(\"TPR\")\n",
    "plt.plot(x_val, y_val)"
   ]
  },
  {
   "cell_type": "markdown",
   "metadata": {},
   "source": [
    "## Process data"
   ]
  },
  {
   "cell_type": "code",
   "execution_count": 56,
   "metadata": {},
   "outputs": [
    {
     "data": {
      "text/plain": [
       "[<matplotlib.lines.Line2D at 0x7f631fa9aa00>]"
      ]
     },
     "execution_count": 56,
     "metadata": {},
     "output_type": "execute_result"
    },
    {
     "data": {
      "image/png": "[encoded data removed]",
      "text/plain": [
       "<Figure size 432x288 with 1 Axes>"
      ]
     },
     "metadata": {
      "needs_background": "light"
     },
     "output_type": "display_data"
    }
   ],
   "source": [
    "import matplotlib.pyplot as plt\n",
    "\n",
    "preds = process_gdt_predict.select('attack','probability').rdd.map(lambda row: (float(row['probability'][1]), float(row['attack'])))\n",
    "\n",
    "# Returns as a list (false positive rate, true positive rate)\n",
    "points = CurveMetrics(preds).get_curve('roc')\n",
    "\n",
    "plt.figure()\n",
    "x_val = [x[0] for x in points]\n",
    "y_val = [x[1] for x in points]\n",
    "plt.title(\"ROC CURVE\")\n",
    "plt.xlabel(\"FPR\")\n",
    "plt.ylabel(\"TPR\")\n",
    "plt.plot(x_val, y_val)"
   ]
  },
  {
   "cell_type": "code",
   "execution_count": 61,
   "metadata": {},
   "outputs": [
    {
     "data": {
      "text/plain": [
       "SparseVector(6, {0: 0.3419, 1: 0.0769, 2: 0.2116, 5: 0.3695})"
      ]
     },
     "execution_count": 61,
     "metadata": {},
     "output_type": "execute_result"
    }
   ],
   "source": [
    "memory_Dtree_model.stages[-1].featureImportances"
   ]
  },
  {
   "cell_type": "markdown",
   "metadata": {},
   "source": [
    "The top 5 features according to the values in memory gradient tree are:\n",
    "\n",
    "- VSTEXT\n",
    "- RSIZE\n",
    "- VSIZE\n",
    "- MINFLT\n",
    "- RGROW\n",
    "\n",
    "The sparse vector shows the index and the score so that we can grade which features are important."
   ]
  },
  {
   "cell_type": "code",
   "execution_count": 62,
   "metadata": {},
   "outputs": [
    {
     "data": {
      "text/plain": [
       "SparseVector(6, {0: 0.2918, 1: 0.1633, 2: 0.1542, 3: 0.0171, 4: 0.0111, 5: 0.3625})"
      ]
     },
     "execution_count": 62,
     "metadata": {},
     "output_type": "execute_result"
    }
   ],
   "source": [
    "memory_GDT_model.stages[-1].featureImportances"
   ]
  },
  {
   "cell_type": "markdown",
   "metadata": {},
   "source": [
    "The top 5 features according to the values in memory decision tree are\n",
    "\n",
    "- VSTEXT\n",
    "- RSIZE\n",
    "- VSIZE\n",
    "- MINFLT\n",
    "- RGROW\n",
    "\n",
    "The sparse vector shows the index and the score so that we can grade which features are important."
   ]
  },
  {
   "cell_type": "code",
   "execution_count": 63,
   "metadata": {},
   "outputs": [
    {
     "data": {
      "text/plain": [
       "SparseVector(5, {0: 0.3099, 1: 0.6901})"
      ]
     },
     "execution_count": 63,
     "metadata": {},
     "output_type": "execute_result"
    }
   ],
   "source": [
    "model_process_decisiontree.stages[-1].featureImportances"
   ]
  },
  {
   "cell_type": "markdown",
   "metadata": {},
   "source": [
    "The top 5 features according to the values in processs decision tree are\n",
    "\n",
    "- TSLPI\n",
    "- NICE\n",
    "\n",
    "The sparse vector shows the index and the score so that we can grade which features are important."
   ]
  },
  {
   "cell_type": "code",
   "execution_count": 64,
   "metadata": {},
   "outputs": [
    {
     "data": {
      "text/plain": [
       "SparseVector(5, {0: 0.8989, 1: 0.0733, 2: 0.0108, 4: 0.0169})"
      ]
     },
     "execution_count": 64,
     "metadata": {},
     "output_type": "execute_result"
    }
   ],
   "source": [
    "process_GDT_model.stages[-1].featureImportances"
   ]
  },
  {
   "cell_type": "markdown",
   "metadata": {},
   "source": [
    "The top 5 features according to the values in memory decision tree are\n",
    "\n",
    "- TSLPI\n",
    "- NICE\n",
    "- PRI\n",
    "- POLI\n",
    "\n",
    "The sparse vector shows the index and the score so that we can grade which features are important."
   ]
  },
  {
   "cell_type": "markdown",
   "metadata": {},
   "source": [
    "# 2.3.5"
   ]
  },
  {
   "cell_type": "code",
   "execution_count": 65,
   "metadata": {},
   "outputs": [
    {
     "data": {
      "text/plain": [
       "411246"
      ]
     },
     "execution_count": 65,
     "metadata": {},
     "output_type": "execute_result"
    }
   ],
   "source": [
    "train_memory_1_new = newMemoryDf.filter(col(\"attack\") == 1)\n",
    "countNew1 = train_memory_1_new.count()\n",
    "countNew0 = 2 * countNew1\n",
    "train_memory_0 = newMemoryDf.filter(col(\"attack\") == 0)\n",
    "train_memory_0_new = train_memory_0.orderBy(f.rand()).limit(countNew0)"
   ]
  },
  {
   "cell_type": "code",
   "execution_count": 66,
   "metadata": {},
   "outputs": [],
   "source": [
    "train_memory_merged = train_memory_0_new.union(train_memory_1_new)\n",
    "train_memory_merged.count()\n",
    "memory_gt = memoryGDT_pipeline.fit(train_memory_merged)"
   ]
  },
  {
   "cell_type": "code",
   "execution_count": 67,
   "metadata": {},
   "outputs": [],
   "source": [
    "train_process_1_new = newProcessDf.filter(col(\"attack\") == 1)\n",
    "countNew1 = train_process_1_new.count()\n",
    "countNew0 = 2 * countNew1\n",
    "train_process_0 = newProcessDf.filter(col(\"attack\") == 0)\n",
    "train_process_0_new = train_process_0.orderBy(f.rand()).limit(countNew0)\n",
    "train_process_0_new.count()\n",
    "\n",
    "train_process_merged = train_process_0_new.union(train_process_1_new)\n",
    "train_process_merged.count()\n",
    "process_gt = processGDT_pipeline.fit(train_process_merged)"
   ]
  },
  {
   "cell_type": "markdown",
   "metadata": {},
   "source": [
    "# 3 Knowledge sharing\n",
    "## 3.1"
   ]
  },
  {
   "cell_type": "code",
   "execution_count": null,
   "metadata": {},
   "outputs": [],
   "source": [
    "from pyspark.ml.clustering import KMeans\n",
    "from pyspark.ml.feature import VectorAssembler\n",
    "\n",
    "iris_df = spark.createDataFrame([\n",
    "(4.7, 3.2, 1.3, 0.2),\n",
    "(4.9, 3.1, 1.5, 0.1),\n",
    "(5.4, 3.9, 1.3, 0.4),\n",
    "(5.0, 3.4, 1.6, 0.4),\n",
    "(5.1, 3.8, 1.6, 0.2),\n",
    "(4.9, 2.4, 3.3, 1.0),\n",
    "(6.6, 2.9, 4.6, 1.3),\n",
    "(5.6, 3.0, 4.5, 1.5),\n",
    "(5.7, 2.6, 3.5, 1.0),\n",
    "(5.8, 2.6, 4.0, 1.2),\n",
    "(5.8, 2.8, 5.1, 2.4),\n",
    "(6.2, 2.8, 4.8, 1.8),\n",
    "(6.0, 3.0, 4.8, 1.8),\n",
    "(6.7, 3.1, 5.6, 2.4),\n",
    "(6.7, 3.0, 5.2, 2.3),\n",
    "(6.2, 3.4, 5.4, 2.3)],\n",
    "['sepal_length', 'sepal_width', 'petal_length', 'petal_width'])\n",
    "\n",
    "\n",
    "assembler = VectorAssembler(\n",
    "inputCols=['sepal_length', 'sepal_width', 'petal_length', 'petal_width'],\n",
    "outputCol='features')\n",
    "kmeans = KMeans(k=3).fit(assembler.transform(iris_df))"
   ]
  },
  {
   "attachments": {
    "3.1.png": {
     "image/png": "[encoded data removed]"
    }
   },
   "cell_type": "markdown",
   "metadata": {},
   "source": [
    "![3.1.png](attachment:3.1.png)\n",
    "\n",
    "## Total of 10 Jobs are running in the K-means Model"
   ]
  },
  {
   "cell_type": "markdown",
   "metadata": {},
   "source": [
    "# 3.2\n",
    "\n",
    "Looking at the Spark UI we can see that spark UI uses parrallalism to process the KMeans model where data is partitioned as per the number of avaiable processors. Following that clusers od data are build in each processors and mean of each cluster is calculated and data close to the cluster mean is circulated in those clusters based on the distance from the centroid of the cluster i.e. the mean. When all the values are passed to the correct cluster then the processing stops and this clustering of data is called as K means algorithm.\n",
    "\n",
    "In Spark UI there are 10 jobs running as supported in the above screen shot.\n",
    "what the take sample job does is it divides all the data into different clusters and then at each cluster the mean is calculated these mean keep on changing as dependending on the values that are in there and once all the values whichb are related the mean changes at a slow rate and then fixes itself. The mean is evaluated at the sum job in kMeans and then those value points are transfered which are not close to the mean as they do not belong to the cluster. Following that the collect job is just collecting the data in each cluster and the count by value job is counting the number of clusters which are formed . So when all of this is done the collectAsMap collects the data from all the final clusters and from the processes and then the collected at clustering summary job that shows the final result of kMeans algorithm\n",
    "\n"
   ]
  },
  {
   "cell_type": "markdown",
   "metadata": {},
   "source": [
    "# References:\n",
    "https://stackoverflow.com/questions/54425084/pyspark-get-threshold-cuttoff-values-for-each-point-in-roc-curve\n",
    "\n",
    "https://stackoverflow.com/questions/54425084/pyspark-get-threshold-cuttoff-values-for-each-point-in-roc-curve"
   ]
  }
 ],
 "metadata": {
  "kernelspec": {
   "display_name": "Python 3",
   "language": "python",
   "name": "python3"
  },
  "language_info": {
   "codemirror_mode": {
    "name": "ipython",
    "version": 3
   },
   "file_extension": ".py",
   "mimetype": "text/x-python",
   "name": "python",
   "nbconvert_exporter": "python",
   "pygments_lexer": "ipython3",
   "version": "3.8.2"
  }
 },
 "nbformat": 4,
 "nbformat_minor": 4
}
